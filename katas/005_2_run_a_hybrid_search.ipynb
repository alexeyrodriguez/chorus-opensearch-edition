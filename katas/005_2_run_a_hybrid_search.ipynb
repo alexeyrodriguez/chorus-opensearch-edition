{
 "cells": [
  {
   "cell_type": "markdown",
   "id": "d53cde66-2601-4b4e-b7ad-77a8037aac5b",
   "metadata": {},
   "source": [
    "# Lets Run a Hybrid Search"
   ]
  },
  {
   "cell_type": "markdown",
   "id": "aa3af259-2a21-4786-9a56-ae4f1e9b246e",
   "metadata": {},
   "source": [
    "In this notebook we'll learn about how to use a ML model to enrich our Icecat data with vectors, and then we'll balance a lexical search with a neural search."
   ]
  },
  {
   "cell_type": "code",
   "execution_count": 1,
   "id": "d79e62be-bd8e-4ba7-9071-f993f1b13240",
   "metadata": {},
   "outputs": [
    {
     "data": {
      "application/mercury+json": "{\n    \"widget\": \"App\",\n    \"title\": \"Let's Run a Hybrid Search\",\n    \"description\": \"Description\",\n    \"show_code\": false,\n    \"show_prompt\": false,\n    \"output\": \"app\",\n    \"schedule\": \"\",\n    \"notify\": \"{}\",\n    \"continuous_update\": true,\n    \"static_notebook\": true,\n    \"show_sidebar\": true,\n    \"full_screen\": true,\n    \"allow_download\": true,\n    \"allow_share\": true,\n    \"stop_on_error\": false,\n    \"model_id\": \"mercury-app\",\n    \"code_uid\": \"App.0.50.110.6-rand2e04eebb\"\n}",
      "text/html": [
       "<h3>Mercury Application</h3><small>This output won't appear in the web app.</small>"
      ],
      "text/plain": [
       "mercury.App"
      ]
     },
     "metadata": {},
     "output_type": "display_data"
    }
   ],
   "source": [
    "import requests\n",
    "import json\n",
    "import mercury as mr\n",
    "import time\n",
    "\n",
    "app = mr.App(title=\"Let's Run a Hybrid Search\", static_notebook=True)"
   ]
  },
  {
   "cell_type": "markdown",
   "id": "a89ca17c-6ea8-4bff-8e65-72caae374c3e",
   "metadata": {},
   "source": [
    "## Configure ml plugin"
   ]
  },
  {
   "cell_type": "code",
   "execution_count": 2,
   "id": "0aad9859-e97d-4c49-9931-9cca00ca1706",
   "metadata": {},
   "outputs": [],
   "source": [
    "url = \"http://localhost:9200/_cluster/settings\"\n",
    "headers = {\n",
    "    'Content-Type': 'application/json'\n",
    "}\n",
    "\n",
    "payload = {\n",
    "    \"persistent\": {\n",
    "        \"plugins\": {\n",
    "            \"ml_commons\": {\n",
    "                \"only_run_on_ml_node\": \"false\",\n",
    "                \"model_access_control_enabled\": \"true\",\n",
    "                \"native_memory_threshold\": \"99\"\n",
    "            }\n",
    "        }\n",
    "    }\n",
    "}\n",
    "\n",
    "\n",
    "response = requests.request(\"PUT\", url, headers=headers, data=json.dumps(payload))\n",
    "\n"
   ]
  },
  {
   "cell_type": "code",
   "execution_count": 3,
   "id": "ebba5149-4ae2-4f89-bfb2-59314655975c",
   "metadata": {},
   "outputs": [
    {
     "data": {
      "text/html": [
       "<style>.renderjson a              { text-decoration: none; }\n",
       ".renderjson .disclosure    { color: grey; font-size: 125%; }\n",
       ".renderjson .syntax        { color: grey; }\n",
       ".renderjson .string        { color: #fe46a5; }\n",
       ".renderjson .number        { color: #0f9b8e; }\n",
       ".renderjson .boolean       { color: black; }\n",
       ".renderjson .key           { color: #2684ff; }\n",
       ".renderjson .keyword       { color: gray; }\n",
       ".renderjson .object.syntax { color: gray; }\n",
       ".renderjson .array.syntax  { color: gray; }</style><div id=\"c4a3d2f0-c3d6-455b-92da-c11b4b71bc9e\"></div>"
      ],
      "text/plain": [
       "<IPython.core.display.HTML object>"
      ]
     },
     "metadata": {},
     "output_type": "display_data"
    },
    {
     "data": {
      "text/html": [
       "<script>var renderjson=function(){var t=function(){for(var t=[];arguments.length;)t.push(n(s(Array.prototype.shift.call(arguments)),o(Array.prototype.shift.call(arguments))));return t},n=function(){for(var t=Array.prototype.shift.call(arguments),e=0;e<arguments.length;e++)arguments[e].constructor==Array?n.apply(this,[t].concat(arguments[e])):t.appendChild(arguments[e]);return t},e=function(t,n){return t.insertBefore(n,t.firstChild),t},r=function(t,n){var e=n||Object.keys(t);for(var r in e)if(Object.hasOwnProperty.call(t,e[r]))return!1;return!0},o=function(t){return document.createTextNode(t)},s=function(t){var n=document.createElement(\"span\");return t&&(n.className=t),n},l=function(t,n,e){var r=document.createElement(\"a\");return n&&(r.className=n),r.appendChild(o(t)),r.href=\"#\",r.onclick=function(t){return e(),t&&t.stopPropagation(),!1},r};function a(i,c,u,p,y){var _=u?\"\":c,f=function(r,a,i,c,u){var f,g=s(c),h=function(){f||n(g.parentNode,f=e(u(),l(y.hide,\"disclosure\",(function(){f.style.display=\"none\",g.style.display=\"inline\"})))),f.style.display=\"inline\",g.style.display=\"none\"};n(g,l(y.show,\"disclosure\",h),t(c+\" syntax\",r),l(a,null,h),t(c+\" syntax\",i));var d=n(s(),o(_.slice(0,-1)),g);return p>0&&\"string\"!=c&&h(),d};return null===i?t(null,_,\"keyword\",\"null\"):void 0===i?t(null,_,\"keyword\",\"undefined\"):\"string\"==typeof i&&i.length>y.max_string_length?f('\"',i.substr(0,y.max_string_length)+\" ...\",'\"',\"string\",(function(){return n(s(\"string\"),t(null,_,\"string\",JSON.stringify(i)))})):\"object\"!=typeof i||[Number,String,Boolean,Date].indexOf(i.constructor)>=0?t(null,_,typeof i,JSON.stringify(i)):i.constructor==Array?0==i.length?t(null,_,\"array syntax\",\"[]\"):f(\"[\",y.collapse_msg(i.length),\"]\",\"array\",(function(){for(var e=n(s(\"array\"),t(\"array syntax\",\"[\",null,\"\\n\")),r=0;r<i.length;r++)n(e,a(y.replacer.call(i,r,i[r]),c+\"    \",!1,p-1,y),r!=i.length-1?t(\"syntax\",\",\"):[],o(\"\\n\"));return n(e,t(null,c,\"array syntax\",\"]\")),e})):r(i,y.property_list)?t(null,_,\"object syntax\",\"{}\"):f(\"{\",y.collapse_msg(Object.keys(i).length),\"}\",\"object\",(function(){var e=n(s(\"object\"),t(\"object syntax\",\"{\",null,\"\\n\"));for(var r in i)var l=r;var u=y.property_list||Object.keys(i);for(var _ in y.sort_objects&&(u=u.sort()),u){(r=u[_])in i&&n(e,t(null,c+\"    \",\"key\",'\"'+r+'\"',\"object syntax\",\": \"),a(y.replacer.call(i,r,i[r]),c+\"    \",!0,p-1,y),r!=l?t(\"syntax\",\",\"):[],o(\"\\n\"))}return n(e,t(null,c,\"object syntax\",\"}\")),e}))}var i=function t(e){var r=new Object(t.options);r.replacer=\"function\"==typeof r.replacer?r.replacer:function(t,n){return n};var o=n(document.createElement(\"pre\"),a(e,\"\",!1,r.show_to_level,r));return o.className=\"renderjson\",o};return i.set_icons=function(t,n){return i.options.show=t,i.options.hide=n,i},i.set_show_to_level=function(t){return i.options.show_to_level=\"string\"==typeof t&&\"all\"===t.toLowerCase()?Number.MAX_VALUE:t,i},i.set_max_string_length=function(t){return i.options.max_string_length=\"string\"==typeof t&&\"none\"===t.toLowerCase()?Number.MAX_VALUE:t,i},i.set_sort_objects=function(t){return i.options.sort_objects=t,i},i.set_replacer=function(t){return i.options.replacer=t,i},i.set_collapse_msg=function(t){return i.options.collapse_msg=t,i},i.set_property_list=function(t){return i.options.property_list=t,i},i.set_show_by_default=function(t){return i.options.show_to_level=t?Number.MAX_VALUE:0,i},i.options={},i.set_icons(\"⊕\",\"⊖\"),i.set_show_by_default(!1),i.set_sort_objects(!1),i.set_max_string_length(\"none\"),i.set_replacer(void 0),i.set_property_list(void 0),i.set_collapse_msg((function(t){return t+\" item\"+(1==t?\"\":\"s\")})),i}(); renderjson.set_show_to_level(4); document.getElementById(\"c4a3d2f0-c3d6-455b-92da-c11b4b71bc9e\").appendChild(renderjson({\"acknowledged\": true, \"persistent\": {\"plugins\": {\"ml_commons\": {\"only_run_on_ml_node\": \"false\", \"model_access_control_enabled\": \"true\", \"native_memory_threshold\": \"99\"}}}, \"transient\": {}}))</script>"
      ],
      "text/plain": [
       "<IPython.core.display.HTML object>"
      ]
     },
     "metadata": {},
     "output_type": "display_data"
    }
   ],
   "source": [
    "mr.JSON(response.json(), level=4)"
   ]
  },
  {
   "cell_type": "markdown",
   "id": "a83b45eb-1b64-4a1f-aed3-9191f3b73fba",
   "metadata": {},
   "source": [
    "## Register a model group"
   ]
  },
  {
   "cell_type": "code",
   "execution_count": 4,
   "id": "369637b1-ecac-42d7-9720-6958481b9287",
   "metadata": {},
   "outputs": [
    {
     "data": {
      "text/html": [
       "<style>.renderjson a              { text-decoration: none; }\n",
       ".renderjson .disclosure    { color: grey; font-size: 125%; }\n",
       ".renderjson .syntax        { color: grey; }\n",
       ".renderjson .string        { color: #fe46a5; }\n",
       ".renderjson .number        { color: #0f9b8e; }\n",
       ".renderjson .boolean       { color: black; }\n",
       ".renderjson .key           { color: #2684ff; }\n",
       ".renderjson .keyword       { color: gray; }\n",
       ".renderjson .object.syntax { color: gray; }\n",
       ".renderjson .array.syntax  { color: gray; }</style><div id=\"b798eb28-f8ca-4687-842c-88699bf215d6\"></div>"
      ],
      "text/plain": [
       "<IPython.core.display.HTML object>"
      ]
     },
     "metadata": {},
     "output_type": "display_data"
    },
    {
     "data": {
      "text/html": [
       "<script>var renderjson=function(){var t=function(){for(var t=[];arguments.length;)t.push(n(s(Array.prototype.shift.call(arguments)),o(Array.prototype.shift.call(arguments))));return t},n=function(){for(var t=Array.prototype.shift.call(arguments),e=0;e<arguments.length;e++)arguments[e].constructor==Array?n.apply(this,[t].concat(arguments[e])):t.appendChild(arguments[e]);return t},e=function(t,n){return t.insertBefore(n,t.firstChild),t},r=function(t,n){var e=n||Object.keys(t);for(var r in e)if(Object.hasOwnProperty.call(t,e[r]))return!1;return!0},o=function(t){return document.createTextNode(t)},s=function(t){var n=document.createElement(\"span\");return t&&(n.className=t),n},l=function(t,n,e){var r=document.createElement(\"a\");return n&&(r.className=n),r.appendChild(o(t)),r.href=\"#\",r.onclick=function(t){return e(),t&&t.stopPropagation(),!1},r};function a(i,c,u,p,y){var _=u?\"\":c,f=function(r,a,i,c,u){var f,g=s(c),h=function(){f||n(g.parentNode,f=e(u(),l(y.hide,\"disclosure\",(function(){f.style.display=\"none\",g.style.display=\"inline\"})))),f.style.display=\"inline\",g.style.display=\"none\"};n(g,l(y.show,\"disclosure\",h),t(c+\" syntax\",r),l(a,null,h),t(c+\" syntax\",i));var d=n(s(),o(_.slice(0,-1)),g);return p>0&&\"string\"!=c&&h(),d};return null===i?t(null,_,\"keyword\",\"null\"):void 0===i?t(null,_,\"keyword\",\"undefined\"):\"string\"==typeof i&&i.length>y.max_string_length?f('\"',i.substr(0,y.max_string_length)+\" ...\",'\"',\"string\",(function(){return n(s(\"string\"),t(null,_,\"string\",JSON.stringify(i)))})):\"object\"!=typeof i||[Number,String,Boolean,Date].indexOf(i.constructor)>=0?t(null,_,typeof i,JSON.stringify(i)):i.constructor==Array?0==i.length?t(null,_,\"array syntax\",\"[]\"):f(\"[\",y.collapse_msg(i.length),\"]\",\"array\",(function(){for(var e=n(s(\"array\"),t(\"array syntax\",\"[\",null,\"\\n\")),r=0;r<i.length;r++)n(e,a(y.replacer.call(i,r,i[r]),c+\"    \",!1,p-1,y),r!=i.length-1?t(\"syntax\",\",\"):[],o(\"\\n\"));return n(e,t(null,c,\"array syntax\",\"]\")),e})):r(i,y.property_list)?t(null,_,\"object syntax\",\"{}\"):f(\"{\",y.collapse_msg(Object.keys(i).length),\"}\",\"object\",(function(){var e=n(s(\"object\"),t(\"object syntax\",\"{\",null,\"\\n\"));for(var r in i)var l=r;var u=y.property_list||Object.keys(i);for(var _ in y.sort_objects&&(u=u.sort()),u){(r=u[_])in i&&n(e,t(null,c+\"    \",\"key\",'\"'+r+'\"',\"object syntax\",\": \"),a(y.replacer.call(i,r,i[r]),c+\"    \",!0,p-1,y),r!=l?t(\"syntax\",\",\"):[],o(\"\\n\"))}return n(e,t(null,c,\"object syntax\",\"}\")),e}))}var i=function t(e){var r=new Object(t.options);r.replacer=\"function\"==typeof r.replacer?r.replacer:function(t,n){return n};var o=n(document.createElement(\"pre\"),a(e,\"\",!1,r.show_to_level,r));return o.className=\"renderjson\",o};return i.set_icons=function(t,n){return i.options.show=t,i.options.hide=n,i},i.set_show_to_level=function(t){return i.options.show_to_level=\"string\"==typeof t&&\"all\"===t.toLowerCase()?Number.MAX_VALUE:t,i},i.set_max_string_length=function(t){return i.options.max_string_length=\"string\"==typeof t&&\"none\"===t.toLowerCase()?Number.MAX_VALUE:t,i},i.set_sort_objects=function(t){return i.options.sort_objects=t,i},i.set_replacer=function(t){return i.options.replacer=t,i},i.set_collapse_msg=function(t){return i.options.collapse_msg=t,i},i.set_property_list=function(t){return i.options.property_list=t,i},i.set_show_by_default=function(t){return i.options.show_to_level=t?Number.MAX_VALUE:0,i},i.options={},i.set_icons(\"⊕\",\"⊖\"),i.set_show_by_default(!1),i.set_sort_objects(!1),i.set_max_string_length(\"none\"),i.set_replacer(void 0),i.set_property_list(void 0),i.set_collapse_msg((function(t){return t+\" item\"+(1==t?\"\":\"s\")})),i}(); renderjson.set_show_to_level(4); document.getElementById(\"b798eb28-f8ca-4687-842c-88699bf215d6\").appendChild(renderjson({\"model_group_id\": \"_GNOnpEBmRRht9-svOPT\", \"status\": \"CREATED\"}))</script>"
      ],
      "text/plain": [
       "<IPython.core.display.HTML object>"
      ]
     },
     "metadata": {},
     "output_type": "display_data"
    },
    {
     "name": "stdout",
     "output_type": "stream",
     "text": [
      "Created Model Group ID _GNOnpEBmRRht9-svOPT\n"
     ]
    }
   ],
   "source": [
    "url = \"http://localhost:9200/_plugins/_ml/model_groups/_register\"\n",
    "\n",
    "payload = {\n",
    "  \"name\": \"NLP_model_group\",\n",
    "  \"description\": \"A model group for NLP models\"\n",
    "}\n",
    "\n",
    "\n",
    "response = requests.request(\"POST\", url, headers=headers, data=json.dumps(payload))\n",
    "mr.JSON(response.json(), level=4)\n",
    "\n",
    "model_group_id = response.json()['model_group_id']\n",
    "\n",
    "print(f\"Created Model Group ID {model_group_id}\")"
   ]
  },
  {
   "attachments": {
    "a5c26b69-d076-48bc-912e-2c7554fffbca.png": {
     "image/png": "[encoded data removed]"
    }
   },
   "cell_type": "markdown",
   "id": "37a55ed7-2395-4ccc-8a09-f98453e0ceb7",
   "metadata": {},
   "source": [
    "## Register the model to the model group\n",
    "Under the covers we are downloading from HuggingFace ![image.png](attachment:a5c26b69-d076-48bc-912e-2c7554fffbca.png) the model and saving it into our cluster.  This can take some time!"
   ]
  },
  {
   "cell_type": "code",
   "execution_count": 5,
   "id": "2edd8172-d94e-46ba-abfd-fb3211e49c1c",
   "metadata": {},
   "outputs": [
    {
     "data": {
      "text/html": [
       "<style>.renderjson a              { text-decoration: none; }\n",
       ".renderjson .disclosure    { color: grey; font-size: 125%; }\n",
       ".renderjson .syntax        { color: grey; }\n",
       ".renderjson .string        { color: #fe46a5; }\n",
       ".renderjson .number        { color: #0f9b8e; }\n",
       ".renderjson .boolean       { color: black; }\n",
       ".renderjson .key           { color: #2684ff; }\n",
       ".renderjson .keyword       { color: gray; }\n",
       ".renderjson .object.syntax { color: gray; }\n",
       ".renderjson .array.syntax  { color: gray; }</style><div id=\"bf04bc7d-4495-41f6-98bf-ca0aba8d6054\"></div>"
      ],
      "text/plain": [
       "<IPython.core.display.HTML object>"
      ]
     },
     "metadata": {},
     "output_type": "display_data"
    },
    {
     "data": {
      "text/html": [
       "<script>var renderjson=function(){var t=function(){for(var t=[];arguments.length;)t.push(n(s(Array.prototype.shift.call(arguments)),o(Array.prototype.shift.call(arguments))));return t},n=function(){for(var t=Array.prototype.shift.call(arguments),e=0;e<arguments.length;e++)arguments[e].constructor==Array?n.apply(this,[t].concat(arguments[e])):t.appendChild(arguments[e]);return t},e=function(t,n){return t.insertBefore(n,t.firstChild),t},r=function(t,n){var e=n||Object.keys(t);for(var r in e)if(Object.hasOwnProperty.call(t,e[r]))return!1;return!0},o=function(t){return document.createTextNode(t)},s=function(t){var n=document.createElement(\"span\");return t&&(n.className=t),n},l=function(t,n,e){var r=document.createElement(\"a\");return n&&(r.className=n),r.appendChild(o(t)),r.href=\"#\",r.onclick=function(t){return e(),t&&t.stopPropagation(),!1},r};function a(i,c,u,p,y){var _=u?\"\":c,f=function(r,a,i,c,u){var f,g=s(c),h=function(){f||n(g.parentNode,f=e(u(),l(y.hide,\"disclosure\",(function(){f.style.display=\"none\",g.style.display=\"inline\"})))),f.style.display=\"inline\",g.style.display=\"none\"};n(g,l(y.show,\"disclosure\",h),t(c+\" syntax\",r),l(a,null,h),t(c+\" syntax\",i));var d=n(s(),o(_.slice(0,-1)),g);return p>0&&\"string\"!=c&&h(),d};return null===i?t(null,_,\"keyword\",\"null\"):void 0===i?t(null,_,\"keyword\",\"undefined\"):\"string\"==typeof i&&i.length>y.max_string_length?f('\"',i.substr(0,y.max_string_length)+\" ...\",'\"',\"string\",(function(){return n(s(\"string\"),t(null,_,\"string\",JSON.stringify(i)))})):\"object\"!=typeof i||[Number,String,Boolean,Date].indexOf(i.constructor)>=0?t(null,_,typeof i,JSON.stringify(i)):i.constructor==Array?0==i.length?t(null,_,\"array syntax\",\"[]\"):f(\"[\",y.collapse_msg(i.length),\"]\",\"array\",(function(){for(var e=n(s(\"array\"),t(\"array syntax\",\"[\",null,\"\\n\")),r=0;r<i.length;r++)n(e,a(y.replacer.call(i,r,i[r]),c+\"    \",!1,p-1,y),r!=i.length-1?t(\"syntax\",\",\"):[],o(\"\\n\"));return n(e,t(null,c,\"array syntax\",\"]\")),e})):r(i,y.property_list)?t(null,_,\"object syntax\",\"{}\"):f(\"{\",y.collapse_msg(Object.keys(i).length),\"}\",\"object\",(function(){var e=n(s(\"object\"),t(\"object syntax\",\"{\",null,\"\\n\"));for(var r in i)var l=r;var u=y.property_list||Object.keys(i);for(var _ in y.sort_objects&&(u=u.sort()),u){(r=u[_])in i&&n(e,t(null,c+\"    \",\"key\",'\"'+r+'\"',\"object syntax\",\": \"),a(y.replacer.call(i,r,i[r]),c+\"    \",!0,p-1,y),r!=l?t(\"syntax\",\",\"):[],o(\"\\n\"))}return n(e,t(null,c,\"object syntax\",\"}\")),e}))}var i=function t(e){var r=new Object(t.options);r.replacer=\"function\"==typeof r.replacer?r.replacer:function(t,n){return n};var o=n(document.createElement(\"pre\"),a(e,\"\",!1,r.show_to_level,r));return o.className=\"renderjson\",o};return i.set_icons=function(t,n){return i.options.show=t,i.options.hide=n,i},i.set_show_to_level=function(t){return i.options.show_to_level=\"string\"==typeof t&&\"all\"===t.toLowerCase()?Number.MAX_VALUE:t,i},i.set_max_string_length=function(t){return i.options.max_string_length=\"string\"==typeof t&&\"none\"===t.toLowerCase()?Number.MAX_VALUE:t,i},i.set_sort_objects=function(t){return i.options.sort_objects=t,i},i.set_replacer=function(t){return i.options.replacer=t,i},i.set_collapse_msg=function(t){return i.options.collapse_msg=t,i},i.set_property_list=function(t){return i.options.property_list=t,i},i.set_show_by_default=function(t){return i.options.show_to_level=t?Number.MAX_VALUE:0,i},i.options={},i.set_icons(\"⊕\",\"⊖\"),i.set_show_by_default(!1),i.set_sort_objects(!1),i.set_max_string_length(\"none\"),i.set_replacer(void 0),i.set_property_list(void 0),i.set_collapse_msg((function(t){return t+\" item\"+(1==t?\"\":\"s\")})),i}(); renderjson.set_show_to_level(4); document.getElementById(\"bf04bc7d-4495-41f6-98bf-ca0aba8d6054\").appendChild(renderjson({\"task_id\": \"_WNOnpEBmRRht9-sveOq\", \"status\": \"CREATED\"}))</script>"
      ],
      "text/plain": [
       "<IPython.core.display.HTML object>"
      ]
     },
     "metadata": {},
     "output_type": "display_data"
    }
   ],
   "source": [
    "url = \"http://localhost:9200/_plugins/_ml/models/_register\"\n",
    "\n",
    "# Previously had huggingface/sentence-transformers/msmarco-distilbert-base-tas-b\n",
    "\n",
    "payload = {\n",
    "  \"name\": \"huggingface/sentence-transformers/all-MiniLM-L6-v2\",\n",
    "  \"version\": \"1.0.1\",\n",
    "  \"model_group_id\": model_group_id,\n",
    "  \"model_format\": \"TORCH_SCRIPT\"\n",
    "}\n",
    "\n",
    "\n",
    "response = requests.request(\"POST\", url, headers=headers, data=json.dumps(payload))\n",
    "mr.JSON(response.json(), level=4)\n",
    "task_id = response.json()['task_id']"
   ]
  },
  {
   "cell_type": "markdown",
   "id": "40da3e4f-9c0d-421c-bd10-c730aefbb7b2",
   "metadata": {},
   "source": [
    "## Check status of registering model"
   ]
  },
  {
   "cell_type": "code",
   "execution_count": 6,
   "id": "a92bbcd6-52fc-4291-b404-625cd3ce4770",
   "metadata": {},
   "outputs": [
    {
     "data": {
      "text/html": [
       "<style>.renderjson a              { text-decoration: none; }\n",
       ".renderjson .disclosure    { color: grey; font-size: 125%; }\n",
       ".renderjson .syntax        { color: grey; }\n",
       ".renderjson .string        { color: #fe46a5; }\n",
       ".renderjson .number        { color: #0f9b8e; }\n",
       ".renderjson .boolean       { color: black; }\n",
       ".renderjson .key           { color: #2684ff; }\n",
       ".renderjson .keyword       { color: gray; }\n",
       ".renderjson .object.syntax { color: gray; }\n",
       ".renderjson .array.syntax  { color: gray; }</style><div id=\"efc09208-51a1-4810-bc98-6ea81f83cd6e\"></div>"
      ],
      "text/plain": [
       "<IPython.core.display.HTML object>"
      ]
     },
     "metadata": {},
     "output_type": "display_data"
    },
    {
     "data": {
      "text/html": [
       "<script>var renderjson=function(){var t=function(){for(var t=[];arguments.length;)t.push(n(s(Array.prototype.shift.call(arguments)),o(Array.prototype.shift.call(arguments))));return t},n=function(){for(var t=Array.prototype.shift.call(arguments),e=0;e<arguments.length;e++)arguments[e].constructor==Array?n.apply(this,[t].concat(arguments[e])):t.appendChild(arguments[e]);return t},e=function(t,n){return t.insertBefore(n,t.firstChild),t},r=function(t,n){var e=n||Object.keys(t);for(var r in e)if(Object.hasOwnProperty.call(t,e[r]))return!1;return!0},o=function(t){return document.createTextNode(t)},s=function(t){var n=document.createElement(\"span\");return t&&(n.className=t),n},l=function(t,n,e){var r=document.createElement(\"a\");return n&&(r.className=n),r.appendChild(o(t)),r.href=\"#\",r.onclick=function(t){return e(),t&&t.stopPropagation(),!1},r};function a(i,c,u,p,y){var _=u?\"\":c,f=function(r,a,i,c,u){var f,g=s(c),h=function(){f||n(g.parentNode,f=e(u(),l(y.hide,\"disclosure\",(function(){f.style.display=\"none\",g.style.display=\"inline\"})))),f.style.display=\"inline\",g.style.display=\"none\"};n(g,l(y.show,\"disclosure\",h),t(c+\" syntax\",r),l(a,null,h),t(c+\" syntax\",i));var d=n(s(),o(_.slice(0,-1)),g);return p>0&&\"string\"!=c&&h(),d};return null===i?t(null,_,\"keyword\",\"null\"):void 0===i?t(null,_,\"keyword\",\"undefined\"):\"string\"==typeof i&&i.length>y.max_string_length?f('\"',i.substr(0,y.max_string_length)+\" ...\",'\"',\"string\",(function(){return n(s(\"string\"),t(null,_,\"string\",JSON.stringify(i)))})):\"object\"!=typeof i||[Number,String,Boolean,Date].indexOf(i.constructor)>=0?t(null,_,typeof i,JSON.stringify(i)):i.constructor==Array?0==i.length?t(null,_,\"array syntax\",\"[]\"):f(\"[\",y.collapse_msg(i.length),\"]\",\"array\",(function(){for(var e=n(s(\"array\"),t(\"array syntax\",\"[\",null,\"\\n\")),r=0;r<i.length;r++)n(e,a(y.replacer.call(i,r,i[r]),c+\"    \",!1,p-1,y),r!=i.length-1?t(\"syntax\",\",\"):[],o(\"\\n\"));return n(e,t(null,c,\"array syntax\",\"]\")),e})):r(i,y.property_list)?t(null,_,\"object syntax\",\"{}\"):f(\"{\",y.collapse_msg(Object.keys(i).length),\"}\",\"object\",(function(){var e=n(s(\"object\"),t(\"object syntax\",\"{\",null,\"\\n\"));for(var r in i)var l=r;var u=y.property_list||Object.keys(i);for(var _ in y.sort_objects&&(u=u.sort()),u){(r=u[_])in i&&n(e,t(null,c+\"    \",\"key\",'\"'+r+'\"',\"object syntax\",\": \"),a(y.replacer.call(i,r,i[r]),c+\"    \",!0,p-1,y),r!=l?t(\"syntax\",\",\"):[],o(\"\\n\"))}return n(e,t(null,c,\"object syntax\",\"}\")),e}))}var i=function t(e){var r=new Object(t.options);r.replacer=\"function\"==typeof r.replacer?r.replacer:function(t,n){return n};var o=n(document.createElement(\"pre\"),a(e,\"\",!1,r.show_to_level,r));return o.className=\"renderjson\",o};return i.set_icons=function(t,n){return i.options.show=t,i.options.hide=n,i},i.set_show_to_level=function(t){return i.options.show_to_level=\"string\"==typeof t&&\"all\"===t.toLowerCase()?Number.MAX_VALUE:t,i},i.set_max_string_length=function(t){return i.options.max_string_length=\"string\"==typeof t&&\"none\"===t.toLowerCase()?Number.MAX_VALUE:t,i},i.set_sort_objects=function(t){return i.options.sort_objects=t,i},i.set_replacer=function(t){return i.options.replacer=t,i},i.set_collapse_msg=function(t){return i.options.collapse_msg=t,i},i.set_property_list=function(t){return i.options.property_list=t,i},i.set_show_by_default=function(t){return i.options.show_to_level=t?Number.MAX_VALUE:0,i},i.options={},i.set_icons(\"⊕\",\"⊖\"),i.set_show_by_default(!1),i.set_sort_objects(!1),i.set_max_string_length(\"none\"),i.set_replacer(void 0),i.set_property_list(void 0),i.set_collapse_msg((function(t){return t+\" item\"+(1==t?\"\":\"s\")})),i}(); renderjson.set_show_to_level(4); document.getElementById(\"efc09208-51a1-4810-bc98-6ea81f83cd6e\").appendChild(renderjson({\"task_type\": \"REGISTER_MODEL\", \"function_name\": \"TEXT_EMBEDDING\", \"state\": \"CREATED\", \"worker_node\": [\"udj8-0cJTFiPSPRKKrF5QA\"], \"create_time\": 1724937846034, \"last_update_time\": 1724937847512, \"is_async\": true}))</script>"
      ],
      "text/plain": [
       "<IPython.core.display.HTML object>"
      ]
     },
     "metadata": {},
     "output_type": "display_data"
    },
    {
     "data": {
      "text/html": [
       "<style>.renderjson a              { text-decoration: none; }\n",
       ".renderjson .disclosure    { color: grey; font-size: 125%; }\n",
       ".renderjson .syntax        { color: grey; }\n",
       ".renderjson .string        { color: #fe46a5; }\n",
       ".renderjson .number        { color: #0f9b8e; }\n",
       ".renderjson .boolean       { color: black; }\n",
       ".renderjson .key           { color: #2684ff; }\n",
       ".renderjson .keyword       { color: gray; }\n",
       ".renderjson .object.syntax { color: gray; }\n",
       ".renderjson .array.syntax  { color: gray; }</style><div id=\"75062bb4-4d78-4065-b8ce-e090fad4f595\"></div>"
      ],
      "text/plain": [
       "<IPython.core.display.HTML object>"
      ]
     },
     "metadata": {},
     "output_type": "display_data"
    },
    {
     "data": {
      "text/html": [
       "<script>var renderjson=function(){var t=function(){for(var t=[];arguments.length;)t.push(n(s(Array.prototype.shift.call(arguments)),o(Array.prototype.shift.call(arguments))));return t},n=function(){for(var t=Array.prototype.shift.call(arguments),e=0;e<arguments.length;e++)arguments[e].constructor==Array?n.apply(this,[t].concat(arguments[e])):t.appendChild(arguments[e]);return t},e=function(t,n){return t.insertBefore(n,t.firstChild),t},r=function(t,n){var e=n||Object.keys(t);for(var r in e)if(Object.hasOwnProperty.call(t,e[r]))return!1;return!0},o=function(t){return document.createTextNode(t)},s=function(t){var n=document.createElement(\"span\");return t&&(n.className=t),n},l=function(t,n,e){var r=document.createElement(\"a\");return n&&(r.className=n),r.appendChild(o(t)),r.href=\"#\",r.onclick=function(t){return e(),t&&t.stopPropagation(),!1},r};function a(i,c,u,p,y){var _=u?\"\":c,f=function(r,a,i,c,u){var f,g=s(c),h=function(){f||n(g.parentNode,f=e(u(),l(y.hide,\"disclosure\",(function(){f.style.display=\"none\",g.style.display=\"inline\"})))),f.style.display=\"inline\",g.style.display=\"none\"};n(g,l(y.show,\"disclosure\",h),t(c+\" syntax\",r),l(a,null,h),t(c+\" syntax\",i));var d=n(s(),o(_.slice(0,-1)),g);return p>0&&\"string\"!=c&&h(),d};return null===i?t(null,_,\"keyword\",\"null\"):void 0===i?t(null,_,\"keyword\",\"undefined\"):\"string\"==typeof i&&i.length>y.max_string_length?f('\"',i.substr(0,y.max_string_length)+\" ...\",'\"',\"string\",(function(){return n(s(\"string\"),t(null,_,\"string\",JSON.stringify(i)))})):\"object\"!=typeof i||[Number,String,Boolean,Date].indexOf(i.constructor)>=0?t(null,_,typeof i,JSON.stringify(i)):i.constructor==Array?0==i.length?t(null,_,\"array syntax\",\"[]\"):f(\"[\",y.collapse_msg(i.length),\"]\",\"array\",(function(){for(var e=n(s(\"array\"),t(\"array syntax\",\"[\",null,\"\\n\")),r=0;r<i.length;r++)n(e,a(y.replacer.call(i,r,i[r]),c+\"    \",!1,p-1,y),r!=i.length-1?t(\"syntax\",\",\"):[],o(\"\\n\"));return n(e,t(null,c,\"array syntax\",\"]\")),e})):r(i,y.property_list)?t(null,_,\"object syntax\",\"{}\"):f(\"{\",y.collapse_msg(Object.keys(i).length),\"}\",\"object\",(function(){var e=n(s(\"object\"),t(\"object syntax\",\"{\",null,\"\\n\"));for(var r in i)var l=r;var u=y.property_list||Object.keys(i);for(var _ in y.sort_objects&&(u=u.sort()),u){(r=u[_])in i&&n(e,t(null,c+\"    \",\"key\",'\"'+r+'\"',\"object syntax\",\": \"),a(y.replacer.call(i,r,i[r]),c+\"    \",!0,p-1,y),r!=l?t(\"syntax\",\",\"):[],o(\"\\n\"))}return n(e,t(null,c,\"object syntax\",\"}\")),e}))}var i=function t(e){var r=new Object(t.options);r.replacer=\"function\"==typeof r.replacer?r.replacer:function(t,n){return n};var o=n(document.createElement(\"pre\"),a(e,\"\",!1,r.show_to_level,r));return o.className=\"renderjson\",o};return i.set_icons=function(t,n){return i.options.show=t,i.options.hide=n,i},i.set_show_to_level=function(t){return i.options.show_to_level=\"string\"==typeof t&&\"all\"===t.toLowerCase()?Number.MAX_VALUE:t,i},i.set_max_string_length=function(t){return i.options.max_string_length=\"string\"==typeof t&&\"none\"===t.toLowerCase()?Number.MAX_VALUE:t,i},i.set_sort_objects=function(t){return i.options.sort_objects=t,i},i.set_replacer=function(t){return i.options.replacer=t,i},i.set_collapse_msg=function(t){return i.options.collapse_msg=t,i},i.set_property_list=function(t){return i.options.property_list=t,i},i.set_show_by_default=function(t){return i.options.show_to_level=t?Number.MAX_VALUE:0,i},i.options={},i.set_icons(\"⊕\",\"⊖\"),i.set_show_by_default(!1),i.set_sort_objects(!1),i.set_max_string_length(\"none\"),i.set_replacer(void 0),i.set_property_list(void 0),i.set_collapse_msg((function(t){return t+\" item\"+(1==t?\"\":\"s\")})),i}(); renderjson.set_show_to_level(4); document.getElementById(\"75062bb4-4d78-4065-b8ce-e090fad4f595\").appendChild(renderjson({\"task_type\": \"REGISTER_MODEL\", \"function_name\": \"TEXT_EMBEDDING\", \"state\": \"CREATED\", \"worker_node\": [\"udj8-0cJTFiPSPRKKrF5QA\"], \"create_time\": 1724937846034, \"last_update_time\": 1724937847512, \"is_async\": true}))</script>"
      ],
      "text/plain": [
       "<IPython.core.display.HTML object>"
      ]
     },
     "metadata": {},
     "output_type": "display_data"
    },
    {
     "data": {
      "text/html": [
       "<style>.renderjson a              { text-decoration: none; }\n",
       ".renderjson .disclosure    { color: grey; font-size: 125%; }\n",
       ".renderjson .syntax        { color: grey; }\n",
       ".renderjson .string        { color: #fe46a5; }\n",
       ".renderjson .number        { color: #0f9b8e; }\n",
       ".renderjson .boolean       { color: black; }\n",
       ".renderjson .key           { color: #2684ff; }\n",
       ".renderjson .keyword       { color: gray; }\n",
       ".renderjson .object.syntax { color: gray; }\n",
       ".renderjson .array.syntax  { color: gray; }</style><div id=\"75ca4eb6-935f-42ad-86fd-ccbb188fbe09\"></div>"
      ],
      "text/plain": [
       "<IPython.core.display.HTML object>"
      ]
     },
     "metadata": {},
     "output_type": "display_data"
    },
    {
     "data": {
      "text/html": [
       "<script>var renderjson=function(){var t=function(){for(var t=[];arguments.length;)t.push(n(s(Array.prototype.shift.call(arguments)),o(Array.prototype.shift.call(arguments))));return t},n=function(){for(var t=Array.prototype.shift.call(arguments),e=0;e<arguments.length;e++)arguments[e].constructor==Array?n.apply(this,[t].concat(arguments[e])):t.appendChild(arguments[e]);return t},e=function(t,n){return t.insertBefore(n,t.firstChild),t},r=function(t,n){var e=n||Object.keys(t);for(var r in e)if(Object.hasOwnProperty.call(t,e[r]))return!1;return!0},o=function(t){return document.createTextNode(t)},s=function(t){var n=document.createElement(\"span\");return t&&(n.className=t),n},l=function(t,n,e){var r=document.createElement(\"a\");return n&&(r.className=n),r.appendChild(o(t)),r.href=\"#\",r.onclick=function(t){return e(),t&&t.stopPropagation(),!1},r};function a(i,c,u,p,y){var _=u?\"\":c,f=function(r,a,i,c,u){var f,g=s(c),h=function(){f||n(g.parentNode,f=e(u(),l(y.hide,\"disclosure\",(function(){f.style.display=\"none\",g.style.display=\"inline\"})))),f.style.display=\"inline\",g.style.display=\"none\"};n(g,l(y.show,\"disclosure\",h),t(c+\" syntax\",r),l(a,null,h),t(c+\" syntax\",i));var d=n(s(),o(_.slice(0,-1)),g);return p>0&&\"string\"!=c&&h(),d};return null===i?t(null,_,\"keyword\",\"null\"):void 0===i?t(null,_,\"keyword\",\"undefined\"):\"string\"==typeof i&&i.length>y.max_string_length?f('\"',i.substr(0,y.max_string_length)+\" ...\",'\"',\"string\",(function(){return n(s(\"string\"),t(null,_,\"string\",JSON.stringify(i)))})):\"object\"!=typeof i||[Number,String,Boolean,Date].indexOf(i.constructor)>=0?t(null,_,typeof i,JSON.stringify(i)):i.constructor==Array?0==i.length?t(null,_,\"array syntax\",\"[]\"):f(\"[\",y.collapse_msg(i.length),\"]\",\"array\",(function(){for(var e=n(s(\"array\"),t(\"array syntax\",\"[\",null,\"\\n\")),r=0;r<i.length;r++)n(e,a(y.replacer.call(i,r,i[r]),c+\"    \",!1,p-1,y),r!=i.length-1?t(\"syntax\",\",\"):[],o(\"\\n\"));return n(e,t(null,c,\"array syntax\",\"]\")),e})):r(i,y.property_list)?t(null,_,\"object syntax\",\"{}\"):f(\"{\",y.collapse_msg(Object.keys(i).length),\"}\",\"object\",(function(){var e=n(s(\"object\"),t(\"object syntax\",\"{\",null,\"\\n\"));for(var r in i)var l=r;var u=y.property_list||Object.keys(i);for(var _ in y.sort_objects&&(u=u.sort()),u){(r=u[_])in i&&n(e,t(null,c+\"    \",\"key\",'\"'+r+'\"',\"object syntax\",\": \"),a(y.replacer.call(i,r,i[r]),c+\"    \",!0,p-1,y),r!=l?t(\"syntax\",\",\"):[],o(\"\\n\"))}return n(e,t(null,c,\"object syntax\",\"}\")),e}))}var i=function t(e){var r=new Object(t.options);r.replacer=\"function\"==typeof r.replacer?r.replacer:function(t,n){return n};var o=n(document.createElement(\"pre\"),a(e,\"\",!1,r.show_to_level,r));return o.className=\"renderjson\",o};return i.set_icons=function(t,n){return i.options.show=t,i.options.hide=n,i},i.set_show_to_level=function(t){return i.options.show_to_level=\"string\"==typeof t&&\"all\"===t.toLowerCase()?Number.MAX_VALUE:t,i},i.set_max_string_length=function(t){return i.options.max_string_length=\"string\"==typeof t&&\"none\"===t.toLowerCase()?Number.MAX_VALUE:t,i},i.set_sort_objects=function(t){return i.options.sort_objects=t,i},i.set_replacer=function(t){return i.options.replacer=t,i},i.set_collapse_msg=function(t){return i.options.collapse_msg=t,i},i.set_property_list=function(t){return i.options.property_list=t,i},i.set_show_by_default=function(t){return i.options.show_to_level=t?Number.MAX_VALUE:0,i},i.options={},i.set_icons(\"⊕\",\"⊖\"),i.set_show_by_default(!1),i.set_sort_objects(!1),i.set_max_string_length(\"none\"),i.set_replacer(void 0),i.set_property_list(void 0),i.set_collapse_msg((function(t){return t+\" item\"+(1==t?\"\":\"s\")})),i}(); renderjson.set_show_to_level(4); document.getElementById(\"75ca4eb6-935f-42ad-86fd-ccbb188fbe09\").appendChild(renderjson({\"task_type\": \"REGISTER_MODEL\", \"function_name\": \"TEXT_EMBEDDING\", \"state\": \"CREATED\", \"worker_node\": [\"udj8-0cJTFiPSPRKKrF5QA\"], \"create_time\": 1724937846034, \"last_update_time\": 1724937847512, \"is_async\": true}))</script>"
      ],
      "text/plain": [
       "<IPython.core.display.HTML object>"
      ]
     },
     "metadata": {},
     "output_type": "display_data"
    },
    {
     "data": {
      "text/html": [
       "<style>.renderjson a              { text-decoration: none; }\n",
       ".renderjson .disclosure    { color: grey; font-size: 125%; }\n",
       ".renderjson .syntax        { color: grey; }\n",
       ".renderjson .string        { color: #fe46a5; }\n",
       ".renderjson .number        { color: #0f9b8e; }\n",
       ".renderjson .boolean       { color: black; }\n",
       ".renderjson .key           { color: #2684ff; }\n",
       ".renderjson .keyword       { color: gray; }\n",
       ".renderjson .object.syntax { color: gray; }\n",
       ".renderjson .array.syntax  { color: gray; }</style><div id=\"40172866-b9f3-4536-8389-2e991011a56c\"></div>"
      ],
      "text/plain": [
       "<IPython.core.display.HTML object>"
      ]
     },
     "metadata": {},
     "output_type": "display_data"
    },
    {
     "data": {
      "text/html": [
       "<script>var renderjson=function(){var t=function(){for(var t=[];arguments.length;)t.push(n(s(Array.prototype.shift.call(arguments)),o(Array.prototype.shift.call(arguments))));return t},n=function(){for(var t=Array.prototype.shift.call(arguments),e=0;e<arguments.length;e++)arguments[e].constructor==Array?n.apply(this,[t].concat(arguments[e])):t.appendChild(arguments[e]);return t},e=function(t,n){return t.insertBefore(n,t.firstChild),t},r=function(t,n){var e=n||Object.keys(t);for(var r in e)if(Object.hasOwnProperty.call(t,e[r]))return!1;return!0},o=function(t){return document.createTextNode(t)},s=function(t){var n=document.createElement(\"span\");return t&&(n.className=t),n},l=function(t,n,e){var r=document.createElement(\"a\");return n&&(r.className=n),r.appendChild(o(t)),r.href=\"#\",r.onclick=function(t){return e(),t&&t.stopPropagation(),!1},r};function a(i,c,u,p,y){var _=u?\"\":c,f=function(r,a,i,c,u){var f,g=s(c),h=function(){f||n(g.parentNode,f=e(u(),l(y.hide,\"disclosure\",(function(){f.style.display=\"none\",g.style.display=\"inline\"})))),f.style.display=\"inline\",g.style.display=\"none\"};n(g,l(y.show,\"disclosure\",h),t(c+\" syntax\",r),l(a,null,h),t(c+\" syntax\",i));var d=n(s(),o(_.slice(0,-1)),g);return p>0&&\"string\"!=c&&h(),d};return null===i?t(null,_,\"keyword\",\"null\"):void 0===i?t(null,_,\"keyword\",\"undefined\"):\"string\"==typeof i&&i.length>y.max_string_length?f('\"',i.substr(0,y.max_string_length)+\" ...\",'\"',\"string\",(function(){return n(s(\"string\"),t(null,_,\"string\",JSON.stringify(i)))})):\"object\"!=typeof i||[Number,String,Boolean,Date].indexOf(i.constructor)>=0?t(null,_,typeof i,JSON.stringify(i)):i.constructor==Array?0==i.length?t(null,_,\"array syntax\",\"[]\"):f(\"[\",y.collapse_msg(i.length),\"]\",\"array\",(function(){for(var e=n(s(\"array\"),t(\"array syntax\",\"[\",null,\"\\n\")),r=0;r<i.length;r++)n(e,a(y.replacer.call(i,r,i[r]),c+\"    \",!1,p-1,y),r!=i.length-1?t(\"syntax\",\",\"):[],o(\"\\n\"));return n(e,t(null,c,\"array syntax\",\"]\")),e})):r(i,y.property_list)?t(null,_,\"object syntax\",\"{}\"):f(\"{\",y.collapse_msg(Object.keys(i).length),\"}\",\"object\",(function(){var e=n(s(\"object\"),t(\"object syntax\",\"{\",null,\"\\n\"));for(var r in i)var l=r;var u=y.property_list||Object.keys(i);for(var _ in y.sort_objects&&(u=u.sort()),u){(r=u[_])in i&&n(e,t(null,c+\"    \",\"key\",'\"'+r+'\"',\"object syntax\",\": \"),a(y.replacer.call(i,r,i[r]),c+\"    \",!0,p-1,y),r!=l?t(\"syntax\",\",\"):[],o(\"\\n\"))}return n(e,t(null,c,\"object syntax\",\"}\")),e}))}var i=function t(e){var r=new Object(t.options);r.replacer=\"function\"==typeof r.replacer?r.replacer:function(t,n){return n};var o=n(document.createElement(\"pre\"),a(e,\"\",!1,r.show_to_level,r));return o.className=\"renderjson\",o};return i.set_icons=function(t,n){return i.options.show=t,i.options.hide=n,i},i.set_show_to_level=function(t){return i.options.show_to_level=\"string\"==typeof t&&\"all\"===t.toLowerCase()?Number.MAX_VALUE:t,i},i.set_max_string_length=function(t){return i.options.max_string_length=\"string\"==typeof t&&\"none\"===t.toLowerCase()?Number.MAX_VALUE:t,i},i.set_sort_objects=function(t){return i.options.sort_objects=t,i},i.set_replacer=function(t){return i.options.replacer=t,i},i.set_collapse_msg=function(t){return i.options.collapse_msg=t,i},i.set_property_list=function(t){return i.options.property_list=t,i},i.set_show_by_default=function(t){return i.options.show_to_level=t?Number.MAX_VALUE:0,i},i.options={},i.set_icons(\"⊕\",\"⊖\"),i.set_show_by_default(!1),i.set_sort_objects(!1),i.set_max_string_length(\"none\"),i.set_replacer(void 0),i.set_property_list(void 0),i.set_collapse_msg((function(t){return t+\" item\"+(1==t?\"\":\"s\")})),i}(); renderjson.set_show_to_level(4); document.getElementById(\"40172866-b9f3-4536-8389-2e991011a56c\").appendChild(renderjson({\"model_id\": \"_mNOnpEBmRRht9-sw-Nz\", \"task_type\": \"REGISTER_MODEL\", \"function_name\": \"TEXT_EMBEDDING\", \"state\": \"COMPLETED\", \"worker_node\": [\"udj8-0cJTFiPSPRKKrF5QA\"], \"create_time\": 1724937846034, \"last_update_time\": 1724937864754, \"is_async\": true}))</script>"
      ],
      "text/plain": [
       "<IPython.core.display.HTML object>"
      ]
     },
     "metadata": {},
     "output_type": "display_data"
    },
    {
     "name": "stdout",
     "output_type": "stream",
     "text": [
      "Created Model ID _mNOnpEBmRRht9-sw-Nz\n"
     ]
    }
   ],
   "source": [
    "url = f\"http://localhost:9200/_plugins/_ml/tasks/{task_id}\"\n",
    "\n",
    "max_attempts = 10\n",
    "attempts = 0\n",
    "\n",
    "state = None\n",
    "while state != 'COMPLETED' and attempts < max_attempts:\n",
    "    time.sleep(5) # wait five second and then check again.  We are downloading msmarco model from huggingface.\n",
    "    response = requests.request(\"GET\", url, headers=headers)\n",
    "    mr.JSON(response.json(), level=4)\n",
    "    state = response.json()['state']\n",
    "    \n",
    "\n",
    "model_id = response.json()['model_id']\n",
    "\n",
    "print(f\"Created Model ID {model_id}\")"
   ]
  },
  {
   "cell_type": "markdown",
   "id": "54f9302d-b59c-4128-86a7-ad3f49b326ea",
   "metadata": {},
   "source": [
    "## Wait ten seconds to avoid memory issues?\n",
    "We have been hitting memory circuit issues..."
   ]
  },
  {
   "cell_type": "code",
   "execution_count": 7,
   "id": "f0fc94ae-1b90-4e9a-aa10-6656ebf41613",
   "metadata": {},
   "outputs": [],
   "source": [
    "time.sleep(10)"
   ]
  },
  {
   "cell_type": "markdown",
   "id": "af73a434-5067-4004-bb8c-913995469ff9",
   "metadata": {},
   "source": [
    "## Deploy the model\n",
    "Under the covers we are downloading and deploying into OpenSearch pytorch4j!"
   ]
  },
  {
   "cell_type": "code",
   "execution_count": 8,
   "id": "f80722d6-c682-4b8d-9259-d236e2efcc1e",
   "metadata": {},
   "outputs": [
    {
     "data": {
      "text/html": [
       "<style>.renderjson a              { text-decoration: none; }\n",
       ".renderjson .disclosure    { color: grey; font-size: 125%; }\n",
       ".renderjson .syntax        { color: grey; }\n",
       ".renderjson .string        { color: #fe46a5; }\n",
       ".renderjson .number        { color: #0f9b8e; }\n",
       ".renderjson .boolean       { color: black; }\n",
       ".renderjson .key           { color: #2684ff; }\n",
       ".renderjson .keyword       { color: gray; }\n",
       ".renderjson .object.syntax { color: gray; }\n",
       ".renderjson .array.syntax  { color: gray; }</style><div id=\"4884aeb8-84f6-432b-aaa7-3c365fecdcc0\"></div>"
      ],
      "text/plain": [
       "<IPython.core.display.HTML object>"
      ]
     },
     "metadata": {},
     "output_type": "display_data"
    },
    {
     "data": {
      "text/html": [
       "<script>var renderjson=function(){var t=function(){for(var t=[];arguments.length;)t.push(n(s(Array.prototype.shift.call(arguments)),o(Array.prototype.shift.call(arguments))));return t},n=function(){for(var t=Array.prototype.shift.call(arguments),e=0;e<arguments.length;e++)arguments[e].constructor==Array?n.apply(this,[t].concat(arguments[e])):t.appendChild(arguments[e]);return t},e=function(t,n){return t.insertBefore(n,t.firstChild),t},r=function(t,n){var e=n||Object.keys(t);for(var r in e)if(Object.hasOwnProperty.call(t,e[r]))return!1;return!0},o=function(t){return document.createTextNode(t)},s=function(t){var n=document.createElement(\"span\");return t&&(n.className=t),n},l=function(t,n,e){var r=document.createElement(\"a\");return n&&(r.className=n),r.appendChild(o(t)),r.href=\"#\",r.onclick=function(t){return e(),t&&t.stopPropagation(),!1},r};function a(i,c,u,p,y){var _=u?\"\":c,f=function(r,a,i,c,u){var f,g=s(c),h=function(){f||n(g.parentNode,f=e(u(),l(y.hide,\"disclosure\",(function(){f.style.display=\"none\",g.style.display=\"inline\"})))),f.style.display=\"inline\",g.style.display=\"none\"};n(g,l(y.show,\"disclosure\",h),t(c+\" syntax\",r),l(a,null,h),t(c+\" syntax\",i));var d=n(s(),o(_.slice(0,-1)),g);return p>0&&\"string\"!=c&&h(),d};return null===i?t(null,_,\"keyword\",\"null\"):void 0===i?t(null,_,\"keyword\",\"undefined\"):\"string\"==typeof i&&i.length>y.max_string_length?f('\"',i.substr(0,y.max_string_length)+\" ...\",'\"',\"string\",(function(){return n(s(\"string\"),t(null,_,\"string\",JSON.stringify(i)))})):\"object\"!=typeof i||[Number,String,Boolean,Date].indexOf(i.constructor)>=0?t(null,_,typeof i,JSON.stringify(i)):i.constructor==Array?0==i.length?t(null,_,\"array syntax\",\"[]\"):f(\"[\",y.collapse_msg(i.length),\"]\",\"array\",(function(){for(var e=n(s(\"array\"),t(\"array syntax\",\"[\",null,\"\\n\")),r=0;r<i.length;r++)n(e,a(y.replacer.call(i,r,i[r]),c+\"    \",!1,p-1,y),r!=i.length-1?t(\"syntax\",\",\"):[],o(\"\\n\"));return n(e,t(null,c,\"array syntax\",\"]\")),e})):r(i,y.property_list)?t(null,_,\"object syntax\",\"{}\"):f(\"{\",y.collapse_msg(Object.keys(i).length),\"}\",\"object\",(function(){var e=n(s(\"object\"),t(\"object syntax\",\"{\",null,\"\\n\"));for(var r in i)var l=r;var u=y.property_list||Object.keys(i);for(var _ in y.sort_objects&&(u=u.sort()),u){(r=u[_])in i&&n(e,t(null,c+\"    \",\"key\",'\"'+r+'\"',\"object syntax\",\": \"),a(y.replacer.call(i,r,i[r]),c+\"    \",!0,p-1,y),r!=l?t(\"syntax\",\",\"):[],o(\"\\n\"))}return n(e,t(null,c,\"object syntax\",\"}\")),e}))}var i=function t(e){var r=new Object(t.options);r.replacer=\"function\"==typeof r.replacer?r.replacer:function(t,n){return n};var o=n(document.createElement(\"pre\"),a(e,\"\",!1,r.show_to_level,r));return o.className=\"renderjson\",o};return i.set_icons=function(t,n){return i.options.show=t,i.options.hide=n,i},i.set_show_to_level=function(t){return i.options.show_to_level=\"string\"==typeof t&&\"all\"===t.toLowerCase()?Number.MAX_VALUE:t,i},i.set_max_string_length=function(t){return i.options.max_string_length=\"string\"==typeof t&&\"none\"===t.toLowerCase()?Number.MAX_VALUE:t,i},i.set_sort_objects=function(t){return i.options.sort_objects=t,i},i.set_replacer=function(t){return i.options.replacer=t,i},i.set_collapse_msg=function(t){return i.options.collapse_msg=t,i},i.set_property_list=function(t){return i.options.property_list=t,i},i.set_show_by_default=function(t){return i.options.show_to_level=t?Number.MAX_VALUE:0,i},i.options={},i.set_icons(\"⊕\",\"⊖\"),i.set_show_by_default(!1),i.set_sort_objects(!1),i.set_max_string_length(\"none\"),i.set_replacer(void 0),i.set_property_list(void 0),i.set_collapse_msg((function(t){return t+\" item\"+(1==t?\"\":\"s\")})),i}(); renderjson.set_show_to_level(4); document.getElementById(\"4884aeb8-84f6-432b-aaa7-3c365fecdcc0\").appendChild(renderjson({\"task_id\": \"_2NPnpEBmRRht9-sM-N2\", \"task_type\": \"DEPLOY_MODEL\", \"status\": \"CREATED\"}))</script>"
      ],
      "text/plain": [
       "<IPython.core.display.HTML object>"
      ]
     },
     "metadata": {},
     "output_type": "display_data"
    }
   ],
   "source": [
    "url = f\"http://localhost:9200/_plugins/_ml/models/{model_id}/_deploy\"\n",
    "\n",
    "response = requests.request(\"POST\", url, headers=headers)\n",
    "mr.JSON(response.json(), level=4)\n",
    "deploy_model_task_id = response.json()['task_id']"
   ]
  },
  {
   "cell_type": "markdown",
   "id": "16a241b2-b92d-44d6-ad8a-b7059e22d352",
   "metadata": {},
   "source": [
    "## Check the status"
   ]
  },
  {
   "cell_type": "code",
   "execution_count": 9,
   "id": "60551dea-6558-4f75-9aa0-bf98ef72bb76",
   "metadata": {},
   "outputs": [
    {
     "data": {
      "text/html": [
       "<style>.renderjson a              { text-decoration: none; }\n",
       ".renderjson .disclosure    { color: grey; font-size: 125%; }\n",
       ".renderjson .syntax        { color: grey; }\n",
       ".renderjson .string        { color: #fe46a5; }\n",
       ".renderjson .number        { color: #0f9b8e; }\n",
       ".renderjson .boolean       { color: black; }\n",
       ".renderjson .key           { color: #2684ff; }\n",
       ".renderjson .keyword       { color: gray; }\n",
       ".renderjson .object.syntax { color: gray; }\n",
       ".renderjson .array.syntax  { color: gray; }</style><div id=\"a7c98e0e-0087-4d30-a159-a95e193b44b5\"></div>"
      ],
      "text/plain": [
       "<IPython.core.display.HTML object>"
      ]
     },
     "metadata": {},
     "output_type": "display_data"
    },
    {
     "data": {
      "text/html": [
       "<script>var renderjson=function(){var t=function(){for(var t=[];arguments.length;)t.push(n(s(Array.prototype.shift.call(arguments)),o(Array.prototype.shift.call(arguments))));return t},n=function(){for(var t=Array.prototype.shift.call(arguments),e=0;e<arguments.length;e++)arguments[e].constructor==Array?n.apply(this,[t].concat(arguments[e])):t.appendChild(arguments[e]);return t},e=function(t,n){return t.insertBefore(n,t.firstChild),t},r=function(t,n){var e=n||Object.keys(t);for(var r in e)if(Object.hasOwnProperty.call(t,e[r]))return!1;return!0},o=function(t){return document.createTextNode(t)},s=function(t){var n=document.createElement(\"span\");return t&&(n.className=t),n},l=function(t,n,e){var r=document.createElement(\"a\");return n&&(r.className=n),r.appendChild(o(t)),r.href=\"#\",r.onclick=function(t){return e(),t&&t.stopPropagation(),!1},r};function a(i,c,u,p,y){var _=u?\"\":c,f=function(r,a,i,c,u){var f,g=s(c),h=function(){f||n(g.parentNode,f=e(u(),l(y.hide,\"disclosure\",(function(){f.style.display=\"none\",g.style.display=\"inline\"})))),f.style.display=\"inline\",g.style.display=\"none\"};n(g,l(y.show,\"disclosure\",h),t(c+\" syntax\",r),l(a,null,h),t(c+\" syntax\",i));var d=n(s(),o(_.slice(0,-1)),g);return p>0&&\"string\"!=c&&h(),d};return null===i?t(null,_,\"keyword\",\"null\"):void 0===i?t(null,_,\"keyword\",\"undefined\"):\"string\"==typeof i&&i.length>y.max_string_length?f('\"',i.substr(0,y.max_string_length)+\" ...\",'\"',\"string\",(function(){return n(s(\"string\"),t(null,_,\"string\",JSON.stringify(i)))})):\"object\"!=typeof i||[Number,String,Boolean,Date].indexOf(i.constructor)>=0?t(null,_,typeof i,JSON.stringify(i)):i.constructor==Array?0==i.length?t(null,_,\"array syntax\",\"[]\"):f(\"[\",y.collapse_msg(i.length),\"]\",\"array\",(function(){for(var e=n(s(\"array\"),t(\"array syntax\",\"[\",null,\"\\n\")),r=0;r<i.length;r++)n(e,a(y.replacer.call(i,r,i[r]),c+\"    \",!1,p-1,y),r!=i.length-1?t(\"syntax\",\",\"):[],o(\"\\n\"));return n(e,t(null,c,\"array syntax\",\"]\")),e})):r(i,y.property_list)?t(null,_,\"object syntax\",\"{}\"):f(\"{\",y.collapse_msg(Object.keys(i).length),\"}\",\"object\",(function(){var e=n(s(\"object\"),t(\"object syntax\",\"{\",null,\"\\n\"));for(var r in i)var l=r;var u=y.property_list||Object.keys(i);for(var _ in y.sort_objects&&(u=u.sort()),u){(r=u[_])in i&&n(e,t(null,c+\"    \",\"key\",'\"'+r+'\"',\"object syntax\",\": \"),a(y.replacer.call(i,r,i[r]),c+\"    \",!0,p-1,y),r!=l?t(\"syntax\",\",\"):[],o(\"\\n\"))}return n(e,t(null,c,\"object syntax\",\"}\")),e}))}var i=function t(e){var r=new Object(t.options);r.replacer=\"function\"==typeof r.replacer?r.replacer:function(t,n){return n};var o=n(document.createElement(\"pre\"),a(e,\"\",!1,r.show_to_level,r));return o.className=\"renderjson\",o};return i.set_icons=function(t,n){return i.options.show=t,i.options.hide=n,i},i.set_show_to_level=function(t){return i.options.show_to_level=\"string\"==typeof t&&\"all\"===t.toLowerCase()?Number.MAX_VALUE:t,i},i.set_max_string_length=function(t){return i.options.max_string_length=\"string\"==typeof t&&\"none\"===t.toLowerCase()?Number.MAX_VALUE:t,i},i.set_sort_objects=function(t){return i.options.sort_objects=t,i},i.set_replacer=function(t){return i.options.replacer=t,i},i.set_collapse_msg=function(t){return i.options.collapse_msg=t,i},i.set_property_list=function(t){return i.options.property_list=t,i},i.set_show_by_default=function(t){return i.options.show_to_level=t?Number.MAX_VALUE:0,i},i.options={},i.set_icons(\"⊕\",\"⊖\"),i.set_show_by_default(!1),i.set_sort_objects(!1),i.set_max_string_length(\"none\"),i.set_replacer(void 0),i.set_property_list(void 0),i.set_collapse_msg((function(t){return t+\" item\"+(1==t?\"\":\"s\")})),i}(); renderjson.set_show_to_level(4); document.getElementById(\"a7c98e0e-0087-4d30-a159-a95e193b44b5\").appendChild(renderjson({\"model_id\": \"_mNOnpEBmRRht9-sw-Nz\", \"task_type\": \"DEPLOY_MODEL\", \"function_name\": \"TEXT_EMBEDDING\", \"state\": \"RUNNING\", \"worker_node\": [\"udj8-0cJTFiPSPRKKrF5QA\"], \"create_time\": 1724937876340, \"last_update_time\": 1724937876418, \"is_async\": true}))</script>"
      ],
      "text/plain": [
       "<IPython.core.display.HTML object>"
      ]
     },
     "metadata": {},
     "output_type": "display_data"
    },
    {
     "data": {
      "text/html": [
       "<style>.renderjson a              { text-decoration: none; }\n",
       ".renderjson .disclosure    { color: grey; font-size: 125%; }\n",
       ".renderjson .syntax        { color: grey; }\n",
       ".renderjson .string        { color: #fe46a5; }\n",
       ".renderjson .number        { color: #0f9b8e; }\n",
       ".renderjson .boolean       { color: black; }\n",
       ".renderjson .key           { color: #2684ff; }\n",
       ".renderjson .keyword       { color: gray; }\n",
       ".renderjson .object.syntax { color: gray; }\n",
       ".renderjson .array.syntax  { color: gray; }</style><div id=\"42b03e04-3348-4970-85f9-31466b9f8258\"></div>"
      ],
      "text/plain": [
       "<IPython.core.display.HTML object>"
      ]
     },
     "metadata": {},
     "output_type": "display_data"
    },
    {
     "data": {
      "text/html": [
       "<script>var renderjson=function(){var t=function(){for(var t=[];arguments.length;)t.push(n(s(Array.prototype.shift.call(arguments)),o(Array.prototype.shift.call(arguments))));return t},n=function(){for(var t=Array.prototype.shift.call(arguments),e=0;e<arguments.length;e++)arguments[e].constructor==Array?n.apply(this,[t].concat(arguments[e])):t.appendChild(arguments[e]);return t},e=function(t,n){return t.insertBefore(n,t.firstChild),t},r=function(t,n){var e=n||Object.keys(t);for(var r in e)if(Object.hasOwnProperty.call(t,e[r]))return!1;return!0},o=function(t){return document.createTextNode(t)},s=function(t){var n=document.createElement(\"span\");return t&&(n.className=t),n},l=function(t,n,e){var r=document.createElement(\"a\");return n&&(r.className=n),r.appendChild(o(t)),r.href=\"#\",r.onclick=function(t){return e(),t&&t.stopPropagation(),!1},r};function a(i,c,u,p,y){var _=u?\"\":c,f=function(r,a,i,c,u){var f,g=s(c),h=function(){f||n(g.parentNode,f=e(u(),l(y.hide,\"disclosure\",(function(){f.style.display=\"none\",g.style.display=\"inline\"})))),f.style.display=\"inline\",g.style.display=\"none\"};n(g,l(y.show,\"disclosure\",h),t(c+\" syntax\",r),l(a,null,h),t(c+\" syntax\",i));var d=n(s(),o(_.slice(0,-1)),g);return p>0&&\"string\"!=c&&h(),d};return null===i?t(null,_,\"keyword\",\"null\"):void 0===i?t(null,_,\"keyword\",\"undefined\"):\"string\"==typeof i&&i.length>y.max_string_length?f('\"',i.substr(0,y.max_string_length)+\" ...\",'\"',\"string\",(function(){return n(s(\"string\"),t(null,_,\"string\",JSON.stringify(i)))})):\"object\"!=typeof i||[Number,String,Boolean,Date].indexOf(i.constructor)>=0?t(null,_,typeof i,JSON.stringify(i)):i.constructor==Array?0==i.length?t(null,_,\"array syntax\",\"[]\"):f(\"[\",y.collapse_msg(i.length),\"]\",\"array\",(function(){for(var e=n(s(\"array\"),t(\"array syntax\",\"[\",null,\"\\n\")),r=0;r<i.length;r++)n(e,a(y.replacer.call(i,r,i[r]),c+\"    \",!1,p-1,y),r!=i.length-1?t(\"syntax\",\",\"):[],o(\"\\n\"));return n(e,t(null,c,\"array syntax\",\"]\")),e})):r(i,y.property_list)?t(null,_,\"object syntax\",\"{}\"):f(\"{\",y.collapse_msg(Object.keys(i).length),\"}\",\"object\",(function(){var e=n(s(\"object\"),t(\"object syntax\",\"{\",null,\"\\n\"));for(var r in i)var l=r;var u=y.property_list||Object.keys(i);for(var _ in y.sort_objects&&(u=u.sort()),u){(r=u[_])in i&&n(e,t(null,c+\"    \",\"key\",'\"'+r+'\"',\"object syntax\",\": \"),a(y.replacer.call(i,r,i[r]),c+\"    \",!0,p-1,y),r!=l?t(\"syntax\",\",\"):[],o(\"\\n\"))}return n(e,t(null,c,\"object syntax\",\"}\")),e}))}var i=function t(e){var r=new Object(t.options);r.replacer=\"function\"==typeof r.replacer?r.replacer:function(t,n){return n};var o=n(document.createElement(\"pre\"),a(e,\"\",!1,r.show_to_level,r));return o.className=\"renderjson\",o};return i.set_icons=function(t,n){return i.options.show=t,i.options.hide=n,i},i.set_show_to_level=function(t){return i.options.show_to_level=\"string\"==typeof t&&\"all\"===t.toLowerCase()?Number.MAX_VALUE:t,i},i.set_max_string_length=function(t){return i.options.max_string_length=\"string\"==typeof t&&\"none\"===t.toLowerCase()?Number.MAX_VALUE:t,i},i.set_sort_objects=function(t){return i.options.sort_objects=t,i},i.set_replacer=function(t){return i.options.replacer=t,i},i.set_collapse_msg=function(t){return i.options.collapse_msg=t,i},i.set_property_list=function(t){return i.options.property_list=t,i},i.set_show_by_default=function(t){return i.options.show_to_level=t?Number.MAX_VALUE:0,i},i.options={},i.set_icons(\"⊕\",\"⊖\"),i.set_show_by_default(!1),i.set_sort_objects(!1),i.set_max_string_length(\"none\"),i.set_replacer(void 0),i.set_property_list(void 0),i.set_collapse_msg((function(t){return t+\" item\"+(1==t?\"\":\"s\")})),i}(); renderjson.set_show_to_level(4); document.getElementById(\"42b03e04-3348-4970-85f9-31466b9f8258\").appendChild(renderjson({\"model_id\": \"_mNOnpEBmRRht9-sw-Nz\", \"task_type\": \"DEPLOY_MODEL\", \"function_name\": \"TEXT_EMBEDDING\", \"state\": \"RUNNING\", \"worker_node\": [\"udj8-0cJTFiPSPRKKrF5QA\"], \"create_time\": 1724937876340, \"last_update_time\": 1724937876418, \"is_async\": true}))</script>"
      ],
      "text/plain": [
       "<IPython.core.display.HTML object>"
      ]
     },
     "metadata": {},
     "output_type": "display_data"
    },
    {
     "data": {
      "text/html": [
       "<style>.renderjson a              { text-decoration: none; }\n",
       ".renderjson .disclosure    { color: grey; font-size: 125%; }\n",
       ".renderjson .syntax        { color: grey; }\n",
       ".renderjson .string        { color: #fe46a5; }\n",
       ".renderjson .number        { color: #0f9b8e; }\n",
       ".renderjson .boolean       { color: black; }\n",
       ".renderjson .key           { color: #2684ff; }\n",
       ".renderjson .keyword       { color: gray; }\n",
       ".renderjson .object.syntax { color: gray; }\n",
       ".renderjson .array.syntax  { color: gray; }</style><div id=\"85c872d5-bce6-43f3-9859-369325ac4a6d\"></div>"
      ],
      "text/plain": [
       "<IPython.core.display.HTML object>"
      ]
     },
     "metadata": {},
     "output_type": "display_data"
    },
    {
     "data": {
      "text/html": [
       "<script>var renderjson=function(){var t=function(){for(var t=[];arguments.length;)t.push(n(s(Array.prototype.shift.call(arguments)),o(Array.prototype.shift.call(arguments))));return t},n=function(){for(var t=Array.prototype.shift.call(arguments),e=0;e<arguments.length;e++)arguments[e].constructor==Array?n.apply(this,[t].concat(arguments[e])):t.appendChild(arguments[e]);return t},e=function(t,n){return t.insertBefore(n,t.firstChild),t},r=function(t,n){var e=n||Object.keys(t);for(var r in e)if(Object.hasOwnProperty.call(t,e[r]))return!1;return!0},o=function(t){return document.createTextNode(t)},s=function(t){var n=document.createElement(\"span\");return t&&(n.className=t),n},l=function(t,n,e){var r=document.createElement(\"a\");return n&&(r.className=n),r.appendChild(o(t)),r.href=\"#\",r.onclick=function(t){return e(),t&&t.stopPropagation(),!1},r};function a(i,c,u,p,y){var _=u?\"\":c,f=function(r,a,i,c,u){var f,g=s(c),h=function(){f||n(g.parentNode,f=e(u(),l(y.hide,\"disclosure\",(function(){f.style.display=\"none\",g.style.display=\"inline\"})))),f.style.display=\"inline\",g.style.display=\"none\"};n(g,l(y.show,\"disclosure\",h),t(c+\" syntax\",r),l(a,null,h),t(c+\" syntax\",i));var d=n(s(),o(_.slice(0,-1)),g);return p>0&&\"string\"!=c&&h(),d};return null===i?t(null,_,\"keyword\",\"null\"):void 0===i?t(null,_,\"keyword\",\"undefined\"):\"string\"==typeof i&&i.length>y.max_string_length?f('\"',i.substr(0,y.max_string_length)+\" ...\",'\"',\"string\",(function(){return n(s(\"string\"),t(null,_,\"string\",JSON.stringify(i)))})):\"object\"!=typeof i||[Number,String,Boolean,Date].indexOf(i.constructor)>=0?t(null,_,typeof i,JSON.stringify(i)):i.constructor==Array?0==i.length?t(null,_,\"array syntax\",\"[]\"):f(\"[\",y.collapse_msg(i.length),\"]\",\"array\",(function(){for(var e=n(s(\"array\"),t(\"array syntax\",\"[\",null,\"\\n\")),r=0;r<i.length;r++)n(e,a(y.replacer.call(i,r,i[r]),c+\"    \",!1,p-1,y),r!=i.length-1?t(\"syntax\",\",\"):[],o(\"\\n\"));return n(e,t(null,c,\"array syntax\",\"]\")),e})):r(i,y.property_list)?t(null,_,\"object syntax\",\"{}\"):f(\"{\",y.collapse_msg(Object.keys(i).length),\"}\",\"object\",(function(){var e=n(s(\"object\"),t(\"object syntax\",\"{\",null,\"\\n\"));for(var r in i)var l=r;var u=y.property_list||Object.keys(i);for(var _ in y.sort_objects&&(u=u.sort()),u){(r=u[_])in i&&n(e,t(null,c+\"    \",\"key\",'\"'+r+'\"',\"object syntax\",\": \"),a(y.replacer.call(i,r,i[r]),c+\"    \",!0,p-1,y),r!=l?t(\"syntax\",\",\"):[],o(\"\\n\"))}return n(e,t(null,c,\"object syntax\",\"}\")),e}))}var i=function t(e){var r=new Object(t.options);r.replacer=\"function\"==typeof r.replacer?r.replacer:function(t,n){return n};var o=n(document.createElement(\"pre\"),a(e,\"\",!1,r.show_to_level,r));return o.className=\"renderjson\",o};return i.set_icons=function(t,n){return i.options.show=t,i.options.hide=n,i},i.set_show_to_level=function(t){return i.options.show_to_level=\"string\"==typeof t&&\"all\"===t.toLowerCase()?Number.MAX_VALUE:t,i},i.set_max_string_length=function(t){return i.options.max_string_length=\"string\"==typeof t&&\"none\"===t.toLowerCase()?Number.MAX_VALUE:t,i},i.set_sort_objects=function(t){return i.options.sort_objects=t,i},i.set_replacer=function(t){return i.options.replacer=t,i},i.set_collapse_msg=function(t){return i.options.collapse_msg=t,i},i.set_property_list=function(t){return i.options.property_list=t,i},i.set_show_by_default=function(t){return i.options.show_to_level=t?Number.MAX_VALUE:0,i},i.options={},i.set_icons(\"⊕\",\"⊖\"),i.set_show_by_default(!1),i.set_sort_objects(!1),i.set_max_string_length(\"none\"),i.set_replacer(void 0),i.set_property_list(void 0),i.set_collapse_msg((function(t){return t+\" item\"+(1==t?\"\":\"s\")})),i}(); renderjson.set_show_to_level(4); document.getElementById(\"85c872d5-bce6-43f3-9859-369325ac4a6d\").appendChild(renderjson({\"model_id\": \"_mNOnpEBmRRht9-sw-Nz\", \"task_type\": \"DEPLOY_MODEL\", \"function_name\": \"TEXT_EMBEDDING\", \"state\": \"RUNNING\", \"worker_node\": [\"udj8-0cJTFiPSPRKKrF5QA\"], \"create_time\": 1724937876340, \"last_update_time\": 1724937876418, \"is_async\": true}))</script>"
      ],
      "text/plain": [
       "<IPython.core.display.HTML object>"
      ]
     },
     "metadata": {},
     "output_type": "display_data"
    },
    {
     "data": {
      "text/html": [
       "<style>.renderjson a              { text-decoration: none; }\n",
       ".renderjson .disclosure    { color: grey; font-size: 125%; }\n",
       ".renderjson .syntax        { color: grey; }\n",
       ".renderjson .string        { color: #fe46a5; }\n",
       ".renderjson .number        { color: #0f9b8e; }\n",
       ".renderjson .boolean       { color: black; }\n",
       ".renderjson .key           { color: #2684ff; }\n",
       ".renderjson .keyword       { color: gray; }\n",
       ".renderjson .object.syntax { color: gray; }\n",
       ".renderjson .array.syntax  { color: gray; }</style><div id=\"b0bf65ac-404e-45e5-a79e-b4114e408f04\"></div>"
      ],
      "text/plain": [
       "<IPython.core.display.HTML object>"
      ]
     },
     "metadata": {},
     "output_type": "display_data"
    },
    {
     "data": {
      "text/html": [
       "<script>var renderjson=function(){var t=function(){for(var t=[];arguments.length;)t.push(n(s(Array.prototype.shift.call(arguments)),o(Array.prototype.shift.call(arguments))));return t},n=function(){for(var t=Array.prototype.shift.call(arguments),e=0;e<arguments.length;e++)arguments[e].constructor==Array?n.apply(this,[t].concat(arguments[e])):t.appendChild(arguments[e]);return t},e=function(t,n){return t.insertBefore(n,t.firstChild),t},r=function(t,n){var e=n||Object.keys(t);for(var r in e)if(Object.hasOwnProperty.call(t,e[r]))return!1;return!0},o=function(t){return document.createTextNode(t)},s=function(t){var n=document.createElement(\"span\");return t&&(n.className=t),n},l=function(t,n,e){var r=document.createElement(\"a\");return n&&(r.className=n),r.appendChild(o(t)),r.href=\"#\",r.onclick=function(t){return e(),t&&t.stopPropagation(),!1},r};function a(i,c,u,p,y){var _=u?\"\":c,f=function(r,a,i,c,u){var f,g=s(c),h=function(){f||n(g.parentNode,f=e(u(),l(y.hide,\"disclosure\",(function(){f.style.display=\"none\",g.style.display=\"inline\"})))),f.style.display=\"inline\",g.style.display=\"none\"};n(g,l(y.show,\"disclosure\",h),t(c+\" syntax\",r),l(a,null,h),t(c+\" syntax\",i));var d=n(s(),o(_.slice(0,-1)),g);return p>0&&\"string\"!=c&&h(),d};return null===i?t(null,_,\"keyword\",\"null\"):void 0===i?t(null,_,\"keyword\",\"undefined\"):\"string\"==typeof i&&i.length>y.max_string_length?f('\"',i.substr(0,y.max_string_length)+\" ...\",'\"',\"string\",(function(){return n(s(\"string\"),t(null,_,\"string\",JSON.stringify(i)))})):\"object\"!=typeof i||[Number,String,Boolean,Date].indexOf(i.constructor)>=0?t(null,_,typeof i,JSON.stringify(i)):i.constructor==Array?0==i.length?t(null,_,\"array syntax\",\"[]\"):f(\"[\",y.collapse_msg(i.length),\"]\",\"array\",(function(){for(var e=n(s(\"array\"),t(\"array syntax\",\"[\",null,\"\\n\")),r=0;r<i.length;r++)n(e,a(y.replacer.call(i,r,i[r]),c+\"    \",!1,p-1,y),r!=i.length-1?t(\"syntax\",\",\"):[],o(\"\\n\"));return n(e,t(null,c,\"array syntax\",\"]\")),e})):r(i,y.property_list)?t(null,_,\"object syntax\",\"{}\"):f(\"{\",y.collapse_msg(Object.keys(i).length),\"}\",\"object\",(function(){var e=n(s(\"object\"),t(\"object syntax\",\"{\",null,\"\\n\"));for(var r in i)var l=r;var u=y.property_list||Object.keys(i);for(var _ in y.sort_objects&&(u=u.sort()),u){(r=u[_])in i&&n(e,t(null,c+\"    \",\"key\",'\"'+r+'\"',\"object syntax\",\": \"),a(y.replacer.call(i,r,i[r]),c+\"    \",!0,p-1,y),r!=l?t(\"syntax\",\",\"):[],o(\"\\n\"))}return n(e,t(null,c,\"object syntax\",\"}\")),e}))}var i=function t(e){var r=new Object(t.options);r.replacer=\"function\"==typeof r.replacer?r.replacer:function(t,n){return n};var o=n(document.createElement(\"pre\"),a(e,\"\",!1,r.show_to_level,r));return o.className=\"renderjson\",o};return i.set_icons=function(t,n){return i.options.show=t,i.options.hide=n,i},i.set_show_to_level=function(t){return i.options.show_to_level=\"string\"==typeof t&&\"all\"===t.toLowerCase()?Number.MAX_VALUE:t,i},i.set_max_string_length=function(t){return i.options.max_string_length=\"string\"==typeof t&&\"none\"===t.toLowerCase()?Number.MAX_VALUE:t,i},i.set_sort_objects=function(t){return i.options.sort_objects=t,i},i.set_replacer=function(t){return i.options.replacer=t,i},i.set_collapse_msg=function(t){return i.options.collapse_msg=t,i},i.set_property_list=function(t){return i.options.property_list=t,i},i.set_show_by_default=function(t){return i.options.show_to_level=t?Number.MAX_VALUE:0,i},i.options={},i.set_icons(\"⊕\",\"⊖\"),i.set_show_by_default(!1),i.set_sort_objects(!1),i.set_max_string_length(\"none\"),i.set_replacer(void 0),i.set_property_list(void 0),i.set_collapse_msg((function(t){return t+\" item\"+(1==t?\"\":\"s\")})),i}(); renderjson.set_show_to_level(4); document.getElementById(\"b0bf65ac-404e-45e5-a79e-b4114e408f04\").appendChild(renderjson({\"model_id\": \"_mNOnpEBmRRht9-sw-Nz\", \"task_type\": \"DEPLOY_MODEL\", \"function_name\": \"TEXT_EMBEDDING\", \"state\": \"RUNNING\", \"worker_node\": [\"udj8-0cJTFiPSPRKKrF5QA\"], \"create_time\": 1724937876340, \"last_update_time\": 1724937876418, \"is_async\": true}))</script>"
      ],
      "text/plain": [
       "<IPython.core.display.HTML object>"
      ]
     },
     "metadata": {},
     "output_type": "display_data"
    },
    {
     "data": {
      "text/html": [
       "<style>.renderjson a              { text-decoration: none; }\n",
       ".renderjson .disclosure    { color: grey; font-size: 125%; }\n",
       ".renderjson .syntax        { color: grey; }\n",
       ".renderjson .string        { color: #fe46a5; }\n",
       ".renderjson .number        { color: #0f9b8e; }\n",
       ".renderjson .boolean       { color: black; }\n",
       ".renderjson .key           { color: #2684ff; }\n",
       ".renderjson .keyword       { color: gray; }\n",
       ".renderjson .object.syntax { color: gray; }\n",
       ".renderjson .array.syntax  { color: gray; }</style><div id=\"56dfcc27-d079-4769-bd94-818887f6bdd5\"></div>"
      ],
      "text/plain": [
       "<IPython.core.display.HTML object>"
      ]
     },
     "metadata": {},
     "output_type": "display_data"
    },
    {
     "data": {
      "text/html": [
       "<script>var renderjson=function(){var t=function(){for(var t=[];arguments.length;)t.push(n(s(Array.prototype.shift.call(arguments)),o(Array.prototype.shift.call(arguments))));return t},n=function(){for(var t=Array.prototype.shift.call(arguments),e=0;e<arguments.length;e++)arguments[e].constructor==Array?n.apply(this,[t].concat(arguments[e])):t.appendChild(arguments[e]);return t},e=function(t,n){return t.insertBefore(n,t.firstChild),t},r=function(t,n){var e=n||Object.keys(t);for(var r in e)if(Object.hasOwnProperty.call(t,e[r]))return!1;return!0},o=function(t){return document.createTextNode(t)},s=function(t){var n=document.createElement(\"span\");return t&&(n.className=t),n},l=function(t,n,e){var r=document.createElement(\"a\");return n&&(r.className=n),r.appendChild(o(t)),r.href=\"#\",r.onclick=function(t){return e(),t&&t.stopPropagation(),!1},r};function a(i,c,u,p,y){var _=u?\"\":c,f=function(r,a,i,c,u){var f,g=s(c),h=function(){f||n(g.parentNode,f=e(u(),l(y.hide,\"disclosure\",(function(){f.style.display=\"none\",g.style.display=\"inline\"})))),f.style.display=\"inline\",g.style.display=\"none\"};n(g,l(y.show,\"disclosure\",h),t(c+\" syntax\",r),l(a,null,h),t(c+\" syntax\",i));var d=n(s(),o(_.slice(0,-1)),g);return p>0&&\"string\"!=c&&h(),d};return null===i?t(null,_,\"keyword\",\"null\"):void 0===i?t(null,_,\"keyword\",\"undefined\"):\"string\"==typeof i&&i.length>y.max_string_length?f('\"',i.substr(0,y.max_string_length)+\" ...\",'\"',\"string\",(function(){return n(s(\"string\"),t(null,_,\"string\",JSON.stringify(i)))})):\"object\"!=typeof i||[Number,String,Boolean,Date].indexOf(i.constructor)>=0?t(null,_,typeof i,JSON.stringify(i)):i.constructor==Array?0==i.length?t(null,_,\"array syntax\",\"[]\"):f(\"[\",y.collapse_msg(i.length),\"]\",\"array\",(function(){for(var e=n(s(\"array\"),t(\"array syntax\",\"[\",null,\"\\n\")),r=0;r<i.length;r++)n(e,a(y.replacer.call(i,r,i[r]),c+\"    \",!1,p-1,y),r!=i.length-1?t(\"syntax\",\",\"):[],o(\"\\n\"));return n(e,t(null,c,\"array syntax\",\"]\")),e})):r(i,y.property_list)?t(null,_,\"object syntax\",\"{}\"):f(\"{\",y.collapse_msg(Object.keys(i).length),\"}\",\"object\",(function(){var e=n(s(\"object\"),t(\"object syntax\",\"{\",null,\"\\n\"));for(var r in i)var l=r;var u=y.property_list||Object.keys(i);for(var _ in y.sort_objects&&(u=u.sort()),u){(r=u[_])in i&&n(e,t(null,c+\"    \",\"key\",'\"'+r+'\"',\"object syntax\",\": \"),a(y.replacer.call(i,r,i[r]),c+\"    \",!0,p-1,y),r!=l?t(\"syntax\",\",\"):[],o(\"\\n\"))}return n(e,t(null,c,\"object syntax\",\"}\")),e}))}var i=function t(e){var r=new Object(t.options);r.replacer=\"function\"==typeof r.replacer?r.replacer:function(t,n){return n};var o=n(document.createElement(\"pre\"),a(e,\"\",!1,r.show_to_level,r));return o.className=\"renderjson\",o};return i.set_icons=function(t,n){return i.options.show=t,i.options.hide=n,i},i.set_show_to_level=function(t){return i.options.show_to_level=\"string\"==typeof t&&\"all\"===t.toLowerCase()?Number.MAX_VALUE:t,i},i.set_max_string_length=function(t){return i.options.max_string_length=\"string\"==typeof t&&\"none\"===t.toLowerCase()?Number.MAX_VALUE:t,i},i.set_sort_objects=function(t){return i.options.sort_objects=t,i},i.set_replacer=function(t){return i.options.replacer=t,i},i.set_collapse_msg=function(t){return i.options.collapse_msg=t,i},i.set_property_list=function(t){return i.options.property_list=t,i},i.set_show_by_default=function(t){return i.options.show_to_level=t?Number.MAX_VALUE:0,i},i.options={},i.set_icons(\"⊕\",\"⊖\"),i.set_show_by_default(!1),i.set_sort_objects(!1),i.set_max_string_length(\"none\"),i.set_replacer(void 0),i.set_property_list(void 0),i.set_collapse_msg((function(t){return t+\" item\"+(1==t?\"\":\"s\")})),i}(); renderjson.set_show_to_level(4); document.getElementById(\"56dfcc27-d079-4769-bd94-818887f6bdd5\").appendChild(renderjson({\"model_id\": \"_mNOnpEBmRRht9-sw-Nz\", \"task_type\": \"DEPLOY_MODEL\", \"function_name\": \"TEXT_EMBEDDING\", \"state\": \"RUNNING\", \"worker_node\": [\"udj8-0cJTFiPSPRKKrF5QA\"], \"create_time\": 1724937876340, \"last_update_time\": 1724937876418, \"is_async\": true}))</script>"
      ],
      "text/plain": [
       "<IPython.core.display.HTML object>"
      ]
     },
     "metadata": {},
     "output_type": "display_data"
    },
    {
     "data": {
      "text/html": [
       "<style>.renderjson a              { text-decoration: none; }\n",
       ".renderjson .disclosure    { color: grey; font-size: 125%; }\n",
       ".renderjson .syntax        { color: grey; }\n",
       ".renderjson .string        { color: #fe46a5; }\n",
       ".renderjson .number        { color: #0f9b8e; }\n",
       ".renderjson .boolean       { color: black; }\n",
       ".renderjson .key           { color: #2684ff; }\n",
       ".renderjson .keyword       { color: gray; }\n",
       ".renderjson .object.syntax { color: gray; }\n",
       ".renderjson .array.syntax  { color: gray; }</style><div id=\"5fde6b62-974b-42f4-b661-748235f5b96b\"></div>"
      ],
      "text/plain": [
       "<IPython.core.display.HTML object>"
      ]
     },
     "metadata": {},
     "output_type": "display_data"
    },
    {
     "data": {
      "text/html": [
       "<script>var renderjson=function(){var t=function(){for(var t=[];arguments.length;)t.push(n(s(Array.prototype.shift.call(arguments)),o(Array.prototype.shift.call(arguments))));return t},n=function(){for(var t=Array.prototype.shift.call(arguments),e=0;e<arguments.length;e++)arguments[e].constructor==Array?n.apply(this,[t].concat(arguments[e])):t.appendChild(arguments[e]);return t},e=function(t,n){return t.insertBefore(n,t.firstChild),t},r=function(t,n){var e=n||Object.keys(t);for(var r in e)if(Object.hasOwnProperty.call(t,e[r]))return!1;return!0},o=function(t){return document.createTextNode(t)},s=function(t){var n=document.createElement(\"span\");return t&&(n.className=t),n},l=function(t,n,e){var r=document.createElement(\"a\");return n&&(r.className=n),r.appendChild(o(t)),r.href=\"#\",r.onclick=function(t){return e(),t&&t.stopPropagation(),!1},r};function a(i,c,u,p,y){var _=u?\"\":c,f=function(r,a,i,c,u){var f,g=s(c),h=function(){f||n(g.parentNode,f=e(u(),l(y.hide,\"disclosure\",(function(){f.style.display=\"none\",g.style.display=\"inline\"})))),f.style.display=\"inline\",g.style.display=\"none\"};n(g,l(y.show,\"disclosure\",h),t(c+\" syntax\",r),l(a,null,h),t(c+\" syntax\",i));var d=n(s(),o(_.slice(0,-1)),g);return p>0&&\"string\"!=c&&h(),d};return null===i?t(null,_,\"keyword\",\"null\"):void 0===i?t(null,_,\"keyword\",\"undefined\"):\"string\"==typeof i&&i.length>y.max_string_length?f('\"',i.substr(0,y.max_string_length)+\" ...\",'\"',\"string\",(function(){return n(s(\"string\"),t(null,_,\"string\",JSON.stringify(i)))})):\"object\"!=typeof i||[Number,String,Boolean,Date].indexOf(i.constructor)>=0?t(null,_,typeof i,JSON.stringify(i)):i.constructor==Array?0==i.length?t(null,_,\"array syntax\",\"[]\"):f(\"[\",y.collapse_msg(i.length),\"]\",\"array\",(function(){for(var e=n(s(\"array\"),t(\"array syntax\",\"[\",null,\"\\n\")),r=0;r<i.length;r++)n(e,a(y.replacer.call(i,r,i[r]),c+\"    \",!1,p-1,y),r!=i.length-1?t(\"syntax\",\",\"):[],o(\"\\n\"));return n(e,t(null,c,\"array syntax\",\"]\")),e})):r(i,y.property_list)?t(null,_,\"object syntax\",\"{}\"):f(\"{\",y.collapse_msg(Object.keys(i).length),\"}\",\"object\",(function(){var e=n(s(\"object\"),t(\"object syntax\",\"{\",null,\"\\n\"));for(var r in i)var l=r;var u=y.property_list||Object.keys(i);for(var _ in y.sort_objects&&(u=u.sort()),u){(r=u[_])in i&&n(e,t(null,c+\"    \",\"key\",'\"'+r+'\"',\"object syntax\",\": \"),a(y.replacer.call(i,r,i[r]),c+\"    \",!0,p-1,y),r!=l?t(\"syntax\",\",\"):[],o(\"\\n\"))}return n(e,t(null,c,\"object syntax\",\"}\")),e}))}var i=function t(e){var r=new Object(t.options);r.replacer=\"function\"==typeof r.replacer?r.replacer:function(t,n){return n};var o=n(document.createElement(\"pre\"),a(e,\"\",!1,r.show_to_level,r));return o.className=\"renderjson\",o};return i.set_icons=function(t,n){return i.options.show=t,i.options.hide=n,i},i.set_show_to_level=function(t){return i.options.show_to_level=\"string\"==typeof t&&\"all\"===t.toLowerCase()?Number.MAX_VALUE:t,i},i.set_max_string_length=function(t){return i.options.max_string_length=\"string\"==typeof t&&\"none\"===t.toLowerCase()?Number.MAX_VALUE:t,i},i.set_sort_objects=function(t){return i.options.sort_objects=t,i},i.set_replacer=function(t){return i.options.replacer=t,i},i.set_collapse_msg=function(t){return i.options.collapse_msg=t,i},i.set_property_list=function(t){return i.options.property_list=t,i},i.set_show_by_default=function(t){return i.options.show_to_level=t?Number.MAX_VALUE:0,i},i.options={},i.set_icons(\"⊕\",\"⊖\"),i.set_show_by_default(!1),i.set_sort_objects(!1),i.set_max_string_length(\"none\"),i.set_replacer(void 0),i.set_property_list(void 0),i.set_collapse_msg((function(t){return t+\" item\"+(1==t?\"\":\"s\")})),i}(); renderjson.set_show_to_level(4); document.getElementById(\"5fde6b62-974b-42f4-b661-748235f5b96b\").appendChild(renderjson({\"model_id\": \"_mNOnpEBmRRht9-sw-Nz\", \"task_type\": \"DEPLOY_MODEL\", \"function_name\": \"TEXT_EMBEDDING\", \"state\": \"COMPLETED\", \"worker_node\": [\"udj8-0cJTFiPSPRKKrF5QA\"], \"create_time\": 1724937876340, \"last_update_time\": 1724937906056, \"is_async\": true}))</script>"
      ],
      "text/plain": [
       "<IPython.core.display.HTML object>"
      ]
     },
     "metadata": {},
     "output_type": "display_data"
    }
   ],
   "source": [
    "url = f\"http://localhost:9200/_plugins/_ml/tasks/{deploy_model_task_id}\"\n",
    "\n",
    "max_attempts = 10\n",
    "attempts = 0\n",
    "\n",
    "state = None\n",
    "while state != 'COMPLETED' and attempts < max_attempts:\n",
    "    attempts += 1\n",
    "    time.sleep(5) # wait five second and then check again.  Deploying the model can take a while\n",
    "    response = requests.request(\"GET\", url, headers=headers)\n",
    "    mr.JSON(response.json(), level=4)\n",
    "    state = response.json()['state']\n",
    "    \n",
    "    \n",
    "\n",
    "model_id = response.json()['model_id']"
   ]
  },
  {
   "cell_type": "markdown",
   "id": "a069b6f7-e62d-4230-8e19-6728377cf698",
   "metadata": {},
   "source": [
    "### Test out using the Model to create sentence embeddings"
   ]
  },
  {
   "cell_type": "code",
   "execution_count": 10,
   "id": "f0e9c2e6-fe6c-4a30-b27d-9fafbf14de8a",
   "metadata": {},
   "outputs": [
    {
     "data": {
      "text/html": [
       "<style>.renderjson a              { text-decoration: none; }\n",
       ".renderjson .disclosure    { color: grey; font-size: 125%; }\n",
       ".renderjson .syntax        { color: grey; }\n",
       ".renderjson .string        { color: #fe46a5; }\n",
       ".renderjson .number        { color: #0f9b8e; }\n",
       ".renderjson .boolean       { color: black; }\n",
       ".renderjson .key           { color: #2684ff; }\n",
       ".renderjson .keyword       { color: gray; }\n",
       ".renderjson .object.syntax { color: gray; }\n",
       ".renderjson .array.syntax  { color: gray; }</style><div id=\"4964b5d4-0221-4de2-bd96-e5c619e1c1f3\"></div>"
      ],
      "text/plain": [
       "<IPython.core.display.HTML object>"
      ]
     },
     "metadata": {},
     "output_type": "display_data"
    },
    {
     "data": {
      "text/html": [
       "<script>var renderjson=function(){var t=function(){for(var t=[];arguments.length;)t.push(n(s(Array.prototype.shift.call(arguments)),o(Array.prototype.shift.call(arguments))));return t},n=function(){for(var t=Array.prototype.shift.call(arguments),e=0;e<arguments.length;e++)arguments[e].constructor==Array?n.apply(this,[t].concat(arguments[e])):t.appendChild(arguments[e]);return t},e=function(t,n){return t.insertBefore(n,t.firstChild),t},r=function(t,n){var e=n||Object.keys(t);for(var r in e)if(Object.hasOwnProperty.call(t,e[r]))return!1;return!0},o=function(t){return document.createTextNode(t)},s=function(t){var n=document.createElement(\"span\");return t&&(n.className=t),n},l=function(t,n,e){var r=document.createElement(\"a\");return n&&(r.className=n),r.appendChild(o(t)),r.href=\"#\",r.onclick=function(t){return e(),t&&t.stopPropagation(),!1},r};function a(i,c,u,p,y){var _=u?\"\":c,f=function(r,a,i,c,u){var f,g=s(c),h=function(){f||n(g.parentNode,f=e(u(),l(y.hide,\"disclosure\",(function(){f.style.display=\"none\",g.style.display=\"inline\"})))),f.style.display=\"inline\",g.style.display=\"none\"};n(g,l(y.show,\"disclosure\",h),t(c+\" syntax\",r),l(a,null,h),t(c+\" syntax\",i));var d=n(s(),o(_.slice(0,-1)),g);return p>0&&\"string\"!=c&&h(),d};return null===i?t(null,_,\"keyword\",\"null\"):void 0===i?t(null,_,\"keyword\",\"undefined\"):\"string\"==typeof i&&i.length>y.max_string_length?f('\"',i.substr(0,y.max_string_length)+\" ...\",'\"',\"string\",(function(){return n(s(\"string\"),t(null,_,\"string\",JSON.stringify(i)))})):\"object\"!=typeof i||[Number,String,Boolean,Date].indexOf(i.constructor)>=0?t(null,_,typeof i,JSON.stringify(i)):i.constructor==Array?0==i.length?t(null,_,\"array syntax\",\"[]\"):f(\"[\",y.collapse_msg(i.length),\"]\",\"array\",(function(){for(var e=n(s(\"array\"),t(\"array syntax\",\"[\",null,\"\\n\")),r=0;r<i.length;r++)n(e,a(y.replacer.call(i,r,i[r]),c+\"    \",!1,p-1,y),r!=i.length-1?t(\"syntax\",\",\"):[],o(\"\\n\"));return n(e,t(null,c,\"array syntax\",\"]\")),e})):r(i,y.property_list)?t(null,_,\"object syntax\",\"{}\"):f(\"{\",y.collapse_msg(Object.keys(i).length),\"}\",\"object\",(function(){var e=n(s(\"object\"),t(\"object syntax\",\"{\",null,\"\\n\"));for(var r in i)var l=r;var u=y.property_list||Object.keys(i);for(var _ in y.sort_objects&&(u=u.sort()),u){(r=u[_])in i&&n(e,t(null,c+\"    \",\"key\",'\"'+r+'\"',\"object syntax\",\": \"),a(y.replacer.call(i,r,i[r]),c+\"    \",!0,p-1,y),r!=l?t(\"syntax\",\",\"):[],o(\"\\n\"))}return n(e,t(null,c,\"object syntax\",\"}\")),e}))}var i=function t(e){var r=new Object(t.options);r.replacer=\"function\"==typeof r.replacer?r.replacer:function(t,n){return n};var o=n(document.createElement(\"pre\"),a(e,\"\",!1,r.show_to_level,r));return o.className=\"renderjson\",o};return i.set_icons=function(t,n){return i.options.show=t,i.options.hide=n,i},i.set_show_to_level=function(t){return i.options.show_to_level=\"string\"==typeof t&&\"all\"===t.toLowerCase()?Number.MAX_VALUE:t,i},i.set_max_string_length=function(t){return i.options.max_string_length=\"string\"==typeof t&&\"none\"===t.toLowerCase()?Number.MAX_VALUE:t,i},i.set_sort_objects=function(t){return i.options.sort_objects=t,i},i.set_replacer=function(t){return i.options.replacer=t,i},i.set_collapse_msg=function(t){return i.options.collapse_msg=t,i},i.set_property_list=function(t){return i.options.property_list=t,i},i.set_show_by_default=function(t){return i.options.show_to_level=t?Number.MAX_VALUE:0,i},i.options={},i.set_icons(\"⊕\",\"⊖\"),i.set_show_by_default(!1),i.set_sort_objects(!1),i.set_max_string_length(\"none\"),i.set_replacer(void 0),i.set_property_list(void 0),i.set_collapse_msg((function(t){return t+\" item\"+(1==t?\"\":\"s\")})),i}(); renderjson.set_show_to_level(6); document.getElementById(\"4964b5d4-0221-4de2-bd96-e5c619e1c1f3\").appendChild(renderjson({\"inference_results\": [{\"output\": [{\"name\": \"sentence_embedding\", \"data_type\": \"FLOAT32\", \"shape\": [384], \"data\": [-0.02331497, 0.0897569, 0.07847979, 0.061070845, 0.048993632, -0.0553081, 0.13658486, -0.09247449, -0.043958083, -0.0056035873, 0.020944715, -0.004786389, -0.012087295, 0.07737955, 0.08406361, 0.061221056, 0.025225157, -0.024019748, -0.070372954, 0.0057962066, -0.104139954, 0.0014408543, -0.04812577, 0.009360101, 0.020430319, 0.0693599, 0.041113827, 0.0006692689, -0.028226256, -0.051793434, -0.028759848, 0.043938234, -0.023560757, 0.0052123475, -0.026442803, -0.04294868, 0.0067716064, -0.1574673, -0.039741118, 0.096195124, -0.014078919, -0.13530365, -0.007214263, 0.003866928, -0.003979118, -0.030110024, -0.046889428, 0.04788918, 0.113092795, -0.034577843, -0.06408541, -0.00422792, -0.005880022, -0.036078677, -0.019892436, 0.108458966, 0.020688437, -0.00042823018, 0.09708192, -0.0028290288, 0.02188621, 0.02151165, -0.048443284, 0.008530444, 0.098003455, -0.027008029, -0.10234866, -0.04492692, -0.021943484, -0.05885895, -0.092037454, 0.0201866, 0.018753914, -0.00042672863, -0.02705081, -0.023441361, 0.03364785, -0.027632171, 0.029743461, -0.06800679, 0.011032482, -0.05726051, -0.02587191, 0.037681937, -0.009489198, 0.013006872, -0.031814504, 0.10471861, 0.018841162, -0.033409223, -0.12860908, -0.014512253, -0.065296404, 0.02482757, -0.023390409, 0.005723936, -0.027247347, 0.01901014, -0.03993469, 0.13252726, 0.046794992, 0.047059007, -0.06835885, 0.006220588, 0.06396363, -0.021444872, -0.032691408, 0.053394772, -0.021857489, -0.07178576, -0.03434718, 0.045367107, 0.008831195, -0.010742314, 0.06572556, -0.04937075, 0.040272627, 0.04264704, -0.08789313, -0.014612146, 0.064651154, 0.017262932, 0.033452332, 0.07480403, 0.020652585, -0.01839259, 0.07952729, -5.4401618e-33, 0.08949282, 0.028159909, 0.0010709409, 0.004341354, 0.05742648, -0.020734746, -0.018899964, 0.005986161, -0.022104977, -0.10909817, -0.008017065, -0.01074718, -0.039212223, -0.008489432, 0.016993603, -0.06340229, 0.06716598, 0.07781533, -0.011683673, 0.09232732, -0.11362822, 0.056162927, 0.020310627, -0.048508715, -0.07405546, -0.0041739186, 0.055559054, -0.011013408, 0.0028782107, 0.011769488, 0.07779247, -0.05332087, 0.09249978, 0.060355797, 0.039148, -0.031591903, -0.032859556, -0.052256767, -0.009363734, -0.0075392593, -0.012108918, 0.00086205563, 0.0156429, -0.011398194, -0.020389747, 0.08374758, 0.013156209, 0.06101268, -0.06412186, 0.01040792, -0.052012596, 0.039103013, -0.028931044, -0.02469318, -0.03402093, -0.020440161, -0.023735514, -0.00620264, -0.028768836, 0.035158988, -0.01130138, 0.015181219, -0.043968465, -0.07220965, -0.054104354, 0.021271503, -0.0028948782, 0.062571175, -0.077926, 0.03991776, 0.054965425, 0.026414683, 0.054428514, 0.018896155, 0.048398614, 0.010681345, 0.12072669, 0.00321711, -0.01772363, 0.059985675, 0.010905868, 0.08362162, 0.044970244, -0.086357936, -0.008785411, 0.021902177, -0.029232861, 0.040962044, -0.05908376, -0.000105242994, -0.09627328, 0.0038629218, 0.041711, -0.019314833, -0.010932895, 1.7122247e-33, 0.0968021, 0.025234018, -0.13657628, -0.03496714, -0.014794255, 0.0019108815, -0.006399116, 0.033685397, -0.10060899, 0.029850364, 0.07024817, 0.032527715, -0.016621308, -0.06504004, 0.00078179495, 0.0242433, 0.0056548957, 0.06830903, -0.08418365, 0.09332948, -0.07884461, 0.009335516, -0.0069060167, 0.085162826, 0.01841183, 0.04886942, 0.072991565, 0.038892575, -0.059872545, 0.0077520227, -0.046097063, 0.02033446, -0.08689564, 0.001514142, 0.006834951, 0.12130984, 0.07370108, -0.10242476, -0.006755092, -0.01292603, -0.035775602, -0.051622007, 0.05377247, -0.046704013, -0.009215728, 0.009317697, -0.067741066, 0.060572095, -0.0698147, 0.06456802, -0.021674648, -0.054522492, 0.010740595, 0.07827134, -0.002297676, -0.03799985, -0.055965673, -0.0073188897, -0.089017496, -0.008771772, -0.029473512, -0.04258384, -0.015365604, 0.01953187, -0.03793514, -0.020589706, -0.00020248257, 0.0010405403, 0.01328501, -0.00024917134, 0.06275963, -0.093436114, -0.12080252, -0.03629244, 0.00016411018, 0.103871256, 0.02066475, 0.0371629, -0.027303461, 0.08125011, -0.10119514, 0.003073754, -0.0140643595, 0.015530616, 0.00786227, -0.063834354, 0.06529267, -0.088100195, -0.031427614, -0.0018108846, -0.054954402, 0.029959666, -0.083774686, 0.048929114, -0.05916081, -1.4211905e-08, 0.030078419, -0.058990452, -0.056617625, 0.017041765, 0.04875614, 0.0174584, 0.008059116, -0.047845088, 0.020694569, 0.025622822, 0.051365927, 0.0531287, 0.05599108, 0.04278515, 0.04007779, -0.08983881, -0.007700702, -0.0042250804, 0.026888823, -0.0053906655, 0.04110555, -0.03394307, 0.026833683, 0.073591985, 0.05969392, 0.03810236, -0.01918659, 0.013228771, 0.04905926, 0.07992317, 0.01843827, 0.06395079, -0.03822368, -0.066662684, -0.012874572, -0.052554466, 0.050529957, 0.056797974, 0.003438023, 0.015980953, -0.025326151, 0.015959142, -0.010558255, 0.03411827, 0.007976633, -0.034363896, 0.04564111, -0.021353927, -0.054549325, -0.04573591, 0.033656172, -0.015931165, 0.04861376, 0.0088900495, -0.08875529, -0.027142296, -0.019007847, -0.020730205, -0.042086873, -0.022405755, -0.029766012, 0.008650896, -0.081363186, 0.045115348]}]}]}))</script>"
      ],
      "text/plain": [
       "<IPython.core.display.HTML object>"
      ]
     },
     "metadata": {},
     "output_type": "display_data"
    }
   ],
   "source": [
    "url = f\"http://localhost:9200/_plugins/_ml/_predict/text_embedding/{model_id}\"\n",
    "\n",
    "payload = {\n",
    "  \"text_docs\":[ \"today is sunny\"],\n",
    "  \"return_number\": True,\n",
    "  \"target_response\": [\"sentence_embedding\"]\n",
    "}\n",
    "\n",
    "\n",
    "response = requests.request(\"POST\", url, headers=headers, data=json.dumps(payload))\n",
    "mr.JSON(response.json(), level=6)"
   ]
  },
  {
   "cell_type": "markdown",
   "id": "2bf1bc7e-0a58-4734-9489-027f7b0c2b36",
   "metadata": {},
   "source": [
    "## Create an ingest pipeline\n",
    "Here we are creating a embedding using our model on the title field called `title_embedding` that we can refer to later"
   ]
  },
  {
   "cell_type": "code",
   "execution_count": 18,
   "id": "17dc0c9b-7921-487d-a46c-420d3dee7ab2",
   "metadata": {},
   "outputs": [
    {
     "data": {
      "text/html": [
       "<style>.renderjson a              { text-decoration: none; }\n",
       ".renderjson .disclosure    { color: grey; font-size: 125%; }\n",
       ".renderjson .syntax        { color: grey; }\n",
       ".renderjson .string        { color: #fe46a5; }\n",
       ".renderjson .number        { color: #0f9b8e; }\n",
       ".renderjson .boolean       { color: black; }\n",
       ".renderjson .key           { color: #2684ff; }\n",
       ".renderjson .keyword       { color: gray; }\n",
       ".renderjson .object.syntax { color: gray; }\n",
       ".renderjson .array.syntax  { color: gray; }</style><div id=\"08cc7e85-a157-41f2-8b3a-ceb403ef088b\"></div>"
      ],
      "text/plain": [
       "<IPython.core.display.HTML object>"
      ]
     },
     "metadata": {},
     "output_type": "display_data"
    },
    {
     "data": {
      "text/html": [
       "<script>var renderjson=function(){var t=function(){for(var t=[];arguments.length;)t.push(n(s(Array.prototype.shift.call(arguments)),o(Array.prototype.shift.call(arguments))));return t},n=function(){for(var t=Array.prototype.shift.call(arguments),e=0;e<arguments.length;e++)arguments[e].constructor==Array?n.apply(this,[t].concat(arguments[e])):t.appendChild(arguments[e]);return t},e=function(t,n){return t.insertBefore(n,t.firstChild),t},r=function(t,n){var e=n||Object.keys(t);for(var r in e)if(Object.hasOwnProperty.call(t,e[r]))return!1;return!0},o=function(t){return document.createTextNode(t)},s=function(t){var n=document.createElement(\"span\");return t&&(n.className=t),n},l=function(t,n,e){var r=document.createElement(\"a\");return n&&(r.className=n),r.appendChild(o(t)),r.href=\"#\",r.onclick=function(t){return e(),t&&t.stopPropagation(),!1},r};function a(i,c,u,p,y){var _=u?\"\":c,f=function(r,a,i,c,u){var f,g=s(c),h=function(){f||n(g.parentNode,f=e(u(),l(y.hide,\"disclosure\",(function(){f.style.display=\"none\",g.style.display=\"inline\"})))),f.style.display=\"inline\",g.style.display=\"none\"};n(g,l(y.show,\"disclosure\",h),t(c+\" syntax\",r),l(a,null,h),t(c+\" syntax\",i));var d=n(s(),o(_.slice(0,-1)),g);return p>0&&\"string\"!=c&&h(),d};return null===i?t(null,_,\"keyword\",\"null\"):void 0===i?t(null,_,\"keyword\",\"undefined\"):\"string\"==typeof i&&i.length>y.max_string_length?f('\"',i.substr(0,y.max_string_length)+\" ...\",'\"',\"string\",(function(){return n(s(\"string\"),t(null,_,\"string\",JSON.stringify(i)))})):\"object\"!=typeof i||[Number,String,Boolean,Date].indexOf(i.constructor)>=0?t(null,_,typeof i,JSON.stringify(i)):i.constructor==Array?0==i.length?t(null,_,\"array syntax\",\"[]\"):f(\"[\",y.collapse_msg(i.length),\"]\",\"array\",(function(){for(var e=n(s(\"array\"),t(\"array syntax\",\"[\",null,\"\\n\")),r=0;r<i.length;r++)n(e,a(y.replacer.call(i,r,i[r]),c+\"    \",!1,p-1,y),r!=i.length-1?t(\"syntax\",\",\"):[],o(\"\\n\"));return n(e,t(null,c,\"array syntax\",\"]\")),e})):r(i,y.property_list)?t(null,_,\"object syntax\",\"{}\"):f(\"{\",y.collapse_msg(Object.keys(i).length),\"}\",\"object\",(function(){var e=n(s(\"object\"),t(\"object syntax\",\"{\",null,\"\\n\"));for(var r in i)var l=r;var u=y.property_list||Object.keys(i);for(var _ in y.sort_objects&&(u=u.sort()),u){(r=u[_])in i&&n(e,t(null,c+\"    \",\"key\",'\"'+r+'\"',\"object syntax\",\": \"),a(y.replacer.call(i,r,i[r]),c+\"    \",!0,p-1,y),r!=l?t(\"syntax\",\",\"):[],o(\"\\n\"))}return n(e,t(null,c,\"object syntax\",\"}\")),e}))}var i=function t(e){var r=new Object(t.options);r.replacer=\"function\"==typeof r.replacer?r.replacer:function(t,n){return n};var o=n(document.createElement(\"pre\"),a(e,\"\",!1,r.show_to_level,r));return o.className=\"renderjson\",o};return i.set_icons=function(t,n){return i.options.show=t,i.options.hide=n,i},i.set_show_to_level=function(t){return i.options.show_to_level=\"string\"==typeof t&&\"all\"===t.toLowerCase()?Number.MAX_VALUE:t,i},i.set_max_string_length=function(t){return i.options.max_string_length=\"string\"==typeof t&&\"none\"===t.toLowerCase()?Number.MAX_VALUE:t,i},i.set_sort_objects=function(t){return i.options.sort_objects=t,i},i.set_replacer=function(t){return i.options.replacer=t,i},i.set_collapse_msg=function(t){return i.options.collapse_msg=t,i},i.set_property_list=function(t){return i.options.property_list=t,i},i.set_show_by_default=function(t){return i.options.show_to_level=t?Number.MAX_VALUE:0,i},i.options={},i.set_icons(\"⊕\",\"⊖\"),i.set_show_by_default(!1),i.set_sort_objects(!1),i.set_max_string_length(\"none\"),i.set_replacer(void 0),i.set_property_list(void 0),i.set_collapse_msg((function(t){return t+\" item\"+(1==t?\"\":\"s\")})),i}(); renderjson.set_show_to_level(4); document.getElementById(\"08cc7e85-a157-41f2-8b3a-ceb403ef088b\").appendChild(renderjson({\"acknowledged\": true}))</script>"
      ],
      "text/plain": [
       "<IPython.core.display.HTML object>"
      ]
     },
     "metadata": {},
     "output_type": "display_data"
    }
   ],
   "source": [
    "url = \"http://localhost:9200/_ingest/pipeline/nlp-ingest-pipeline\"\n",
    "\n",
    "payload = {\n",
    "  \"description\": \"A text embedding pipeline\",\n",
    "  \"processors\": [\n",
    "    {\n",
    "      \"text_embedding\": {\n",
    "        \"model_id\": model_id,\n",
    "        \"field_map\": {\n",
    "          \"title\": \"title_embedding\"\n",
    "        }\n",
    "      }\n",
    "    }\n",
    "  ]\n",
    "}\n",
    "\n",
    "\n",
    "response = requests.request(\"PUT\", url, headers=headers, data=json.dumps(payload))\n",
    "mr.JSON(response.json(), level=4)\n"
   ]
  },
  {
   "cell_type": "markdown",
   "id": "2064b7b8-523a-4345-b28a-c71c54644d57",
   "metadata": {},
   "source": [
    "## Create an index for ingestion"
   ]
  },
  {
   "cell_type": "code",
   "execution_count": 19,
   "id": "65d36be5-887e-4ab9-b798-2e2f1c0c37b5",
   "metadata": {},
   "outputs": [
    {
     "data": {
      "text/html": [
       "<style>.renderjson a              { text-decoration: none; }\n",
       ".renderjson .disclosure    { color: grey; font-size: 125%; }\n",
       ".renderjson .syntax        { color: grey; }\n",
       ".renderjson .string        { color: #fe46a5; }\n",
       ".renderjson .number        { color: #0f9b8e; }\n",
       ".renderjson .boolean       { color: black; }\n",
       ".renderjson .key           { color: #2684ff; }\n",
       ".renderjson .keyword       { color: gray; }\n",
       ".renderjson .object.syntax { color: gray; }\n",
       ".renderjson .array.syntax  { color: gray; }</style><div id=\"77b3e1db-8a6d-4913-9efa-e87131797eca\"></div>"
      ],
      "text/plain": [
       "<IPython.core.display.HTML object>"
      ]
     },
     "metadata": {},
     "output_type": "display_data"
    },
    {
     "data": {
      "text/html": [
       "<script>var renderjson=function(){var t=function(){for(var t=[];arguments.length;)t.push(n(s(Array.prototype.shift.call(arguments)),o(Array.prototype.shift.call(arguments))));return t},n=function(){for(var t=Array.prototype.shift.call(arguments),e=0;e<arguments.length;e++)arguments[e].constructor==Array?n.apply(this,[t].concat(arguments[e])):t.appendChild(arguments[e]);return t},e=function(t,n){return t.insertBefore(n,t.firstChild),t},r=function(t,n){var e=n||Object.keys(t);for(var r in e)if(Object.hasOwnProperty.call(t,e[r]))return!1;return!0},o=function(t){return document.createTextNode(t)},s=function(t){var n=document.createElement(\"span\");return t&&(n.className=t),n},l=function(t,n,e){var r=document.createElement(\"a\");return n&&(r.className=n),r.appendChild(o(t)),r.href=\"#\",r.onclick=function(t){return e(),t&&t.stopPropagation(),!1},r};function a(i,c,u,p,y){var _=u?\"\":c,f=function(r,a,i,c,u){var f,g=s(c),h=function(){f||n(g.parentNode,f=e(u(),l(y.hide,\"disclosure\",(function(){f.style.display=\"none\",g.style.display=\"inline\"})))),f.style.display=\"inline\",g.style.display=\"none\"};n(g,l(y.show,\"disclosure\",h),t(c+\" syntax\",r),l(a,null,h),t(c+\" syntax\",i));var d=n(s(),o(_.slice(0,-1)),g);return p>0&&\"string\"!=c&&h(),d};return null===i?t(null,_,\"keyword\",\"null\"):void 0===i?t(null,_,\"keyword\",\"undefined\"):\"string\"==typeof i&&i.length>y.max_string_length?f('\"',i.substr(0,y.max_string_length)+\" ...\",'\"',\"string\",(function(){return n(s(\"string\"),t(null,_,\"string\",JSON.stringify(i)))})):\"object\"!=typeof i||[Number,String,Boolean,Date].indexOf(i.constructor)>=0?t(null,_,typeof i,JSON.stringify(i)):i.constructor==Array?0==i.length?t(null,_,\"array syntax\",\"[]\"):f(\"[\",y.collapse_msg(i.length),\"]\",\"array\",(function(){for(var e=n(s(\"array\"),t(\"array syntax\",\"[\",null,\"\\n\")),r=0;r<i.length;r++)n(e,a(y.replacer.call(i,r,i[r]),c+\"    \",!1,p-1,y),r!=i.length-1?t(\"syntax\",\",\"):[],o(\"\\n\"));return n(e,t(null,c,\"array syntax\",\"]\")),e})):r(i,y.property_list)?t(null,_,\"object syntax\",\"{}\"):f(\"{\",y.collapse_msg(Object.keys(i).length),\"}\",\"object\",(function(){var e=n(s(\"object\"),t(\"object syntax\",\"{\",null,\"\\n\"));for(var r in i)var l=r;var u=y.property_list||Object.keys(i);for(var _ in y.sort_objects&&(u=u.sort()),u){(r=u[_])in i&&n(e,t(null,c+\"    \",\"key\",'\"'+r+'\"',\"object syntax\",\": \"),a(y.replacer.call(i,r,i[r]),c+\"    \",!0,p-1,y),r!=l?t(\"syntax\",\",\"):[],o(\"\\n\"))}return n(e,t(null,c,\"object syntax\",\"}\")),e}))}var i=function t(e){var r=new Object(t.options);r.replacer=\"function\"==typeof r.replacer?r.replacer:function(t,n){return n};var o=n(document.createElement(\"pre\"),a(e,\"\",!1,r.show_to_level,r));return o.className=\"renderjson\",o};return i.set_icons=function(t,n){return i.options.show=t,i.options.hide=n,i},i.set_show_to_level=function(t){return i.options.show_to_level=\"string\"==typeof t&&\"all\"===t.toLowerCase()?Number.MAX_VALUE:t,i},i.set_max_string_length=function(t){return i.options.max_string_length=\"string\"==typeof t&&\"none\"===t.toLowerCase()?Number.MAX_VALUE:t,i},i.set_sort_objects=function(t){return i.options.sort_objects=t,i},i.set_replacer=function(t){return i.options.replacer=t,i},i.set_collapse_msg=function(t){return i.options.collapse_msg=t,i},i.set_property_list=function(t){return i.options.property_list=t,i},i.set_show_by_default=function(t){return i.options.show_to_level=t?Number.MAX_VALUE:0,i},i.options={},i.set_icons(\"⊕\",\"⊖\"),i.set_show_by_default(!1),i.set_sort_objects(!1),i.set_max_string_length(\"none\"),i.set_replacer(void 0),i.set_property_list(void 0),i.set_collapse_msg((function(t){return t+\" item\"+(1==t?\"\":\"s\")})),i}(); renderjson.set_show_to_level(4); document.getElementById(\"77b3e1db-8a6d-4913-9efa-e87131797eca\").appendChild(renderjson({\"acknowledged\": true, \"shards_acknowledged\": true, \"index\": \"my-nlp-index\"}))</script>"
      ],
      "text/plain": [
       "<IPython.core.display.HTML object>"
      ]
     },
     "metadata": {},
     "output_type": "display_data"
    }
   ],
   "source": [
    "url = \"http://localhost:9200/my-nlp-index\"\n",
    "\n",
    "response = requests.request(\"DELETE\", url, headers=headers)\n",
    "\n",
    "payload = {\n",
    "  \"settings\": {\n",
    "    \"index.knn\": True,\n",
    "    \"default_pipeline\": \"nlp-ingest-pipeline\"\n",
    "  },\n",
    "  \"mappings\": {\n",
    "    \"properties\": {\n",
    "      \"id\": {\n",
    "        \"type\": \"text\"\n",
    "      },\n",
    "      \"title_embedding\": {\n",
    "        \"type\": \"knn_vector\",\n",
    "        \"dimension\": 384,\n",
    "        \"method\": {\n",
    "          \"engine\": \"lucene\",\n",
    "          \"space_type\": \"l2\",\n",
    "          \"name\": \"hnsw\",\n",
    "          \"parameters\": {}\n",
    "        }\n",
    "      },\n",
    "      \"title\": {\n",
    "        \"type\": \"text\"\n",
    "      }\n",
    "    }\n",
    "  }\n",
    "}\n",
    "response = requests.request(\"PUT\", url, headers=headers, data=json.dumps(payload))\n",
    "mr.JSON(response.json(), level=4)"
   ]
  },
  {
   "cell_type": "markdown",
   "id": "1f871822-e5eb-4a2b-9438-3dc88bead9c7",
   "metadata": {},
   "source": [
    "## Ingest documents into the index"
   ]
  },
  {
   "cell_type": "markdown",
   "id": "2c704f43-7f25-4de1-986b-4a8d26f89634",
   "metadata": {},
   "source": [
    "#### Document 1"
   ]
  },
  {
   "cell_type": "code",
   "execution_count": 20,
   "id": "f6e85e3a-5570-4ee8-a1e4-993bb8dcdb6e",
   "metadata": {},
   "outputs": [
    {
     "data": {
      "text/html": [
       "<style>.renderjson a              { text-decoration: none; }\n",
       ".renderjson .disclosure    { color: grey; font-size: 125%; }\n",
       ".renderjson .syntax        { color: grey; }\n",
       ".renderjson .string        { color: #fe46a5; }\n",
       ".renderjson .number        { color: #0f9b8e; }\n",
       ".renderjson .boolean       { color: black; }\n",
       ".renderjson .key           { color: #2684ff; }\n",
       ".renderjson .keyword       { color: gray; }\n",
       ".renderjson .object.syntax { color: gray; }\n",
       ".renderjson .array.syntax  { color: gray; }</style><div id=\"65e8aa4a-45ad-4859-ab29-d8dfd9fb6d5c\"></div>"
      ],
      "text/plain": [
       "<IPython.core.display.HTML object>"
      ]
     },
     "metadata": {},
     "output_type": "display_data"
    },
    {
     "data": {
      "text/html": [
       "<script>var renderjson=function(){var t=function(){for(var t=[];arguments.length;)t.push(n(s(Array.prototype.shift.call(arguments)),o(Array.prototype.shift.call(arguments))));return t},n=function(){for(var t=Array.prototype.shift.call(arguments),e=0;e<arguments.length;e++)arguments[e].constructor==Array?n.apply(this,[t].concat(arguments[e])):t.appendChild(arguments[e]);return t},e=function(t,n){return t.insertBefore(n,t.firstChild),t},r=function(t,n){var e=n||Object.keys(t);for(var r in e)if(Object.hasOwnProperty.call(t,e[r]))return!1;return!0},o=function(t){return document.createTextNode(t)},s=function(t){var n=document.createElement(\"span\");return t&&(n.className=t),n},l=function(t,n,e){var r=document.createElement(\"a\");return n&&(r.className=n),r.appendChild(o(t)),r.href=\"#\",r.onclick=function(t){return e(),t&&t.stopPropagation(),!1},r};function a(i,c,u,p,y){var _=u?\"\":c,f=function(r,a,i,c,u){var f,g=s(c),h=function(){f||n(g.parentNode,f=e(u(),l(y.hide,\"disclosure\",(function(){f.style.display=\"none\",g.style.display=\"inline\"})))),f.style.display=\"inline\",g.style.display=\"none\"};n(g,l(y.show,\"disclosure\",h),t(c+\" syntax\",r),l(a,null,h),t(c+\" syntax\",i));var d=n(s(),o(_.slice(0,-1)),g);return p>0&&\"string\"!=c&&h(),d};return null===i?t(null,_,\"keyword\",\"null\"):void 0===i?t(null,_,\"keyword\",\"undefined\"):\"string\"==typeof i&&i.length>y.max_string_length?f('\"',i.substr(0,y.max_string_length)+\" ...\",'\"',\"string\",(function(){return n(s(\"string\"),t(null,_,\"string\",JSON.stringify(i)))})):\"object\"!=typeof i||[Number,String,Boolean,Date].indexOf(i.constructor)>=0?t(null,_,typeof i,JSON.stringify(i)):i.constructor==Array?0==i.length?t(null,_,\"array syntax\",\"[]\"):f(\"[\",y.collapse_msg(i.length),\"]\",\"array\",(function(){for(var e=n(s(\"array\"),t(\"array syntax\",\"[\",null,\"\\n\")),r=0;r<i.length;r++)n(e,a(y.replacer.call(i,r,i[r]),c+\"    \",!1,p-1,y),r!=i.length-1?t(\"syntax\",\",\"):[],o(\"\\n\"));return n(e,t(null,c,\"array syntax\",\"]\")),e})):r(i,y.property_list)?t(null,_,\"object syntax\",\"{}\"):f(\"{\",y.collapse_msg(Object.keys(i).length),\"}\",\"object\",(function(){var e=n(s(\"object\"),t(\"object syntax\",\"{\",null,\"\\n\"));for(var r in i)var l=r;var u=y.property_list||Object.keys(i);for(var _ in y.sort_objects&&(u=u.sort()),u){(r=u[_])in i&&n(e,t(null,c+\"    \",\"key\",'\"'+r+'\"',\"object syntax\",\": \"),a(y.replacer.call(i,r,i[r]),c+\"    \",!0,p-1,y),r!=l?t(\"syntax\",\",\"):[],o(\"\\n\"))}return n(e,t(null,c,\"object syntax\",\"}\")),e}))}var i=function t(e){var r=new Object(t.options);r.replacer=\"function\"==typeof r.replacer?r.replacer:function(t,n){return n};var o=n(document.createElement(\"pre\"),a(e,\"\",!1,r.show_to_level,r));return o.className=\"renderjson\",o};return i.set_icons=function(t,n){return i.options.show=t,i.options.hide=n,i},i.set_show_to_level=function(t){return i.options.show_to_level=\"string\"==typeof t&&\"all\"===t.toLowerCase()?Number.MAX_VALUE:t,i},i.set_max_string_length=function(t){return i.options.max_string_length=\"string\"==typeof t&&\"none\"===t.toLowerCase()?Number.MAX_VALUE:t,i},i.set_sort_objects=function(t){return i.options.sort_objects=t,i},i.set_replacer=function(t){return i.options.replacer=t,i},i.set_collapse_msg=function(t){return i.options.collapse_msg=t,i},i.set_property_list=function(t){return i.options.property_list=t,i},i.set_show_by_default=function(t){return i.options.show_to_level=t?Number.MAX_VALUE:0,i},i.options={},i.set_icons(\"⊕\",\"⊖\"),i.set_show_by_default(!1),i.set_sort_objects(!1),i.set_max_string_length(\"none\"),i.set_replacer(void 0),i.set_property_list(void 0),i.set_collapse_msg((function(t){return t+\" item\"+(1==t?\"\":\"s\")})),i}(); renderjson.set_show_to_level(1); document.getElementById(\"65e8aa4a-45ad-4859-ab29-d8dfd9fb6d5c\").appendChild(renderjson({\"_index\": \"my-nlp-index\", \"_id\": \"1\", \"_version\": 1, \"result\": \"created\", \"_shards\": {\"total\": 2, \"successful\": 1, \"failed\": 0}, \"_seq_no\": 0, \"_primary_term\": 1}))</script>"
      ],
      "text/plain": [
       "<IPython.core.display.HTML object>"
      ]
     },
     "metadata": {},
     "output_type": "display_data"
    }
   ],
   "source": [
    "url = \"http://localhost:9200/my-nlp-index/_doc/1\"\n",
    "\n",
    "payload = {\n",
    "  \"title\": \"Xerox 006R90321 toner cartridge Original Black 6 pc(s)\",\n",
    "  \"id\": \"s1\"\n",
    "}\n",
    "\n",
    "\n",
    "response = requests.request(\"PUT\", url, headers=headers, data=json.dumps(payload))\n",
    "mr.JSON(response.json(), level=1)"
   ]
  },
  {
   "cell_type": "markdown",
   "id": "0f5385e2-86b7-4b56-b51b-70b4752feca3",
   "metadata": {},
   "source": [
    "#### Document 2"
   ]
  },
  {
   "cell_type": "code",
   "execution_count": 21,
   "id": "97624a6e-8681-4e80-9fed-f0cf8607d079",
   "metadata": {},
   "outputs": [
    {
     "data": {
      "text/html": [
       "<style>.renderjson a              { text-decoration: none; }\n",
       ".renderjson .disclosure    { color: grey; font-size: 125%; }\n",
       ".renderjson .syntax        { color: grey; }\n",
       ".renderjson .string        { color: #fe46a5; }\n",
       ".renderjson .number        { color: #0f9b8e; }\n",
       ".renderjson .boolean       { color: black; }\n",
       ".renderjson .key           { color: #2684ff; }\n",
       ".renderjson .keyword       { color: gray; }\n",
       ".renderjson .object.syntax { color: gray; }\n",
       ".renderjson .array.syntax  { color: gray; }</style><div id=\"e49cd678-a215-4eca-b647-c67a24e3bd1a\"></div>"
      ],
      "text/plain": [
       "<IPython.core.display.HTML object>"
      ]
     },
     "metadata": {},
     "output_type": "display_data"
    },
    {
     "data": {
      "text/html": [
       "<script>var renderjson=function(){var t=function(){for(var t=[];arguments.length;)t.push(n(s(Array.prototype.shift.call(arguments)),o(Array.prototype.shift.call(arguments))));return t},n=function(){for(var t=Array.prototype.shift.call(arguments),e=0;e<arguments.length;e++)arguments[e].constructor==Array?n.apply(this,[t].concat(arguments[e])):t.appendChild(arguments[e]);return t},e=function(t,n){return t.insertBefore(n,t.firstChild),t},r=function(t,n){var e=n||Object.keys(t);for(var r in e)if(Object.hasOwnProperty.call(t,e[r]))return!1;return!0},o=function(t){return document.createTextNode(t)},s=function(t){var n=document.createElement(\"span\");return t&&(n.className=t),n},l=function(t,n,e){var r=document.createElement(\"a\");return n&&(r.className=n),r.appendChild(o(t)),r.href=\"#\",r.onclick=function(t){return e(),t&&t.stopPropagation(),!1},r};function a(i,c,u,p,y){var _=u?\"\":c,f=function(r,a,i,c,u){var f,g=s(c),h=function(){f||n(g.parentNode,f=e(u(),l(y.hide,\"disclosure\",(function(){f.style.display=\"none\",g.style.display=\"inline\"})))),f.style.display=\"inline\",g.style.display=\"none\"};n(g,l(y.show,\"disclosure\",h),t(c+\" syntax\",r),l(a,null,h),t(c+\" syntax\",i));var d=n(s(),o(_.slice(0,-1)),g);return p>0&&\"string\"!=c&&h(),d};return null===i?t(null,_,\"keyword\",\"null\"):void 0===i?t(null,_,\"keyword\",\"undefined\"):\"string\"==typeof i&&i.length>y.max_string_length?f('\"',i.substr(0,y.max_string_length)+\" ...\",'\"',\"string\",(function(){return n(s(\"string\"),t(null,_,\"string\",JSON.stringify(i)))})):\"object\"!=typeof i||[Number,String,Boolean,Date].indexOf(i.constructor)>=0?t(null,_,typeof i,JSON.stringify(i)):i.constructor==Array?0==i.length?t(null,_,\"array syntax\",\"[]\"):f(\"[\",y.collapse_msg(i.length),\"]\",\"array\",(function(){for(var e=n(s(\"array\"),t(\"array syntax\",\"[\",null,\"\\n\")),r=0;r<i.length;r++)n(e,a(y.replacer.call(i,r,i[r]),c+\"    \",!1,p-1,y),r!=i.length-1?t(\"syntax\",\",\"):[],o(\"\\n\"));return n(e,t(null,c,\"array syntax\",\"]\")),e})):r(i,y.property_list)?t(null,_,\"object syntax\",\"{}\"):f(\"{\",y.collapse_msg(Object.keys(i).length),\"}\",\"object\",(function(){var e=n(s(\"object\"),t(\"object syntax\",\"{\",null,\"\\n\"));for(var r in i)var l=r;var u=y.property_list||Object.keys(i);for(var _ in y.sort_objects&&(u=u.sort()),u){(r=u[_])in i&&n(e,t(null,c+\"    \",\"key\",'\"'+r+'\"',\"object syntax\",\": \"),a(y.replacer.call(i,r,i[r]),c+\"    \",!0,p-1,y),r!=l?t(\"syntax\",\",\"):[],o(\"\\n\"))}return n(e,t(null,c,\"object syntax\",\"}\")),e}))}var i=function t(e){var r=new Object(t.options);r.replacer=\"function\"==typeof r.replacer?r.replacer:function(t,n){return n};var o=n(document.createElement(\"pre\"),a(e,\"\",!1,r.show_to_level,r));return o.className=\"renderjson\",o};return i.set_icons=function(t,n){return i.options.show=t,i.options.hide=n,i},i.set_show_to_level=function(t){return i.options.show_to_level=\"string\"==typeof t&&\"all\"===t.toLowerCase()?Number.MAX_VALUE:t,i},i.set_max_string_length=function(t){return i.options.max_string_length=\"string\"==typeof t&&\"none\"===t.toLowerCase()?Number.MAX_VALUE:t,i},i.set_sort_objects=function(t){return i.options.sort_objects=t,i},i.set_replacer=function(t){return i.options.replacer=t,i},i.set_collapse_msg=function(t){return i.options.collapse_msg=t,i},i.set_property_list=function(t){return i.options.property_list=t,i},i.set_show_by_default=function(t){return i.options.show_to_level=t?Number.MAX_VALUE:0,i},i.options={},i.set_icons(\"⊕\",\"⊖\"),i.set_show_by_default(!1),i.set_sort_objects(!1),i.set_max_string_length(\"none\"),i.set_replacer(void 0),i.set_property_list(void 0),i.set_collapse_msg((function(t){return t+\" item\"+(1==t?\"\":\"s\")})),i}(); renderjson.set_show_to_level(1); document.getElementById(\"e49cd678-a215-4eca-b647-c67a24e3bd1a\").appendChild(renderjson({\"_index\": \"my-nlp-index\", \"_id\": \"2\", \"_version\": 1, \"result\": \"created\", \"_shards\": {\"total\": 2, \"successful\": 1, \"failed\": 0}, \"_seq_no\": 1, \"_primary_term\": 1}))</script>"
      ],
      "text/plain": [
       "<IPython.core.display.HTML object>"
      ]
     },
     "metadata": {},
     "output_type": "display_data"
    }
   ],
   "source": [
    "url = \"http://localhost:9200/my-nlp-index/_doc/2\"\n",
    "\n",
    "payload = {\n",
    "  \"title\": \"Labels Premium A4 64.6x33.8 mm white paper matt 2400 pcs.\",\n",
    "  \"id\": \"s2\"\n",
    "}\n",
    "\n",
    "\n",
    "response = requests.request(\"PUT\", url, headers=headers, data=json.dumps(payload))\n",
    "mr.JSON(response.json(), level=1)"
   ]
  },
  {
   "cell_type": "markdown",
   "id": "f8aae31c-5554-4503-a9db-2647d8584a3b",
   "metadata": {},
   "source": [
    "## Configure a search pipeline"
   ]
  },
  {
   "cell_type": "code",
   "execution_count": 22,
   "id": "7009cbfd-4dbb-4ea3-aec4-f53b7510738c",
   "metadata": {},
   "outputs": [
    {
     "data": {
      "text/html": [
       "<style>.renderjson a              { text-decoration: none; }\n",
       ".renderjson .disclosure    { color: grey; font-size: 125%; }\n",
       ".renderjson .syntax        { color: grey; }\n",
       ".renderjson .string        { color: #fe46a5; }\n",
       ".renderjson .number        { color: #0f9b8e; }\n",
       ".renderjson .boolean       { color: black; }\n",
       ".renderjson .key           { color: #2684ff; }\n",
       ".renderjson .keyword       { color: gray; }\n",
       ".renderjson .object.syntax { color: gray; }\n",
       ".renderjson .array.syntax  { color: gray; }</style><div id=\"53a1eff5-04f5-45ac-bf58-194e05d25fa5\"></div>"
      ],
      "text/plain": [
       "<IPython.core.display.HTML object>"
      ]
     },
     "metadata": {},
     "output_type": "display_data"
    },
    {
     "data": {
      "text/html": [
       "<script>var renderjson=function(){var t=function(){for(var t=[];arguments.length;)t.push(n(s(Array.prototype.shift.call(arguments)),o(Array.prototype.shift.call(arguments))));return t},n=function(){for(var t=Array.prototype.shift.call(arguments),e=0;e<arguments.length;e++)arguments[e].constructor==Array?n.apply(this,[t].concat(arguments[e])):t.appendChild(arguments[e]);return t},e=function(t,n){return t.insertBefore(n,t.firstChild),t},r=function(t,n){var e=n||Object.keys(t);for(var r in e)if(Object.hasOwnProperty.call(t,e[r]))return!1;return!0},o=function(t){return document.createTextNode(t)},s=function(t){var n=document.createElement(\"span\");return t&&(n.className=t),n},l=function(t,n,e){var r=document.createElement(\"a\");return n&&(r.className=n),r.appendChild(o(t)),r.href=\"#\",r.onclick=function(t){return e(),t&&t.stopPropagation(),!1},r};function a(i,c,u,p,y){var _=u?\"\":c,f=function(r,a,i,c,u){var f,g=s(c),h=function(){f||n(g.parentNode,f=e(u(),l(y.hide,\"disclosure\",(function(){f.style.display=\"none\",g.style.display=\"inline\"})))),f.style.display=\"inline\",g.style.display=\"none\"};n(g,l(y.show,\"disclosure\",h),t(c+\" syntax\",r),l(a,null,h),t(c+\" syntax\",i));var d=n(s(),o(_.slice(0,-1)),g);return p>0&&\"string\"!=c&&h(),d};return null===i?t(null,_,\"keyword\",\"null\"):void 0===i?t(null,_,\"keyword\",\"undefined\"):\"string\"==typeof i&&i.length>y.max_string_length?f('\"',i.substr(0,y.max_string_length)+\" ...\",'\"',\"string\",(function(){return n(s(\"string\"),t(null,_,\"string\",JSON.stringify(i)))})):\"object\"!=typeof i||[Number,String,Boolean,Date].indexOf(i.constructor)>=0?t(null,_,typeof i,JSON.stringify(i)):i.constructor==Array?0==i.length?t(null,_,\"array syntax\",\"[]\"):f(\"[\",y.collapse_msg(i.length),\"]\",\"array\",(function(){for(var e=n(s(\"array\"),t(\"array syntax\",\"[\",null,\"\\n\")),r=0;r<i.length;r++)n(e,a(y.replacer.call(i,r,i[r]),c+\"    \",!1,p-1,y),r!=i.length-1?t(\"syntax\",\",\"):[],o(\"\\n\"));return n(e,t(null,c,\"array syntax\",\"]\")),e})):r(i,y.property_list)?t(null,_,\"object syntax\",\"{}\"):f(\"{\",y.collapse_msg(Object.keys(i).length),\"}\",\"object\",(function(){var e=n(s(\"object\"),t(\"object syntax\",\"{\",null,\"\\n\"));for(var r in i)var l=r;var u=y.property_list||Object.keys(i);for(var _ in y.sort_objects&&(u=u.sort()),u){(r=u[_])in i&&n(e,t(null,c+\"    \",\"key\",'\"'+r+'\"',\"object syntax\",\": \"),a(y.replacer.call(i,r,i[r]),c+\"    \",!0,p-1,y),r!=l?t(\"syntax\",\",\"):[],o(\"\\n\"))}return n(e,t(null,c,\"object syntax\",\"}\")),e}))}var i=function t(e){var r=new Object(t.options);r.replacer=\"function\"==typeof r.replacer?r.replacer:function(t,n){return n};var o=n(document.createElement(\"pre\"),a(e,\"\",!1,r.show_to_level,r));return o.className=\"renderjson\",o};return i.set_icons=function(t,n){return i.options.show=t,i.options.hide=n,i},i.set_show_to_level=function(t){return i.options.show_to_level=\"string\"==typeof t&&\"all\"===t.toLowerCase()?Number.MAX_VALUE:t,i},i.set_max_string_length=function(t){return i.options.max_string_length=\"string\"==typeof t&&\"none\"===t.toLowerCase()?Number.MAX_VALUE:t,i},i.set_sort_objects=function(t){return i.options.sort_objects=t,i},i.set_replacer=function(t){return i.options.replacer=t,i},i.set_collapse_msg=function(t){return i.options.collapse_msg=t,i},i.set_property_list=function(t){return i.options.property_list=t,i},i.set_show_by_default=function(t){return i.options.show_to_level=t?Number.MAX_VALUE:0,i},i.options={},i.set_icons(\"⊕\",\"⊖\"),i.set_show_by_default(!1),i.set_sort_objects(!1),i.set_max_string_length(\"none\"),i.set_replacer(void 0),i.set_property_list(void 0),i.set_collapse_msg((function(t){return t+\" item\"+(1==t?\"\":\"s\")})),i}(); renderjson.set_show_to_level(4); document.getElementById(\"53a1eff5-04f5-45ac-bf58-194e05d25fa5\").appendChild(renderjson({\"acknowledged\": true}))</script>"
      ],
      "text/plain": [
       "<IPython.core.display.HTML object>"
      ]
     },
     "metadata": {},
     "output_type": "display_data"
    }
   ],
   "source": [
    "url = \"http://localhost:9200/_search/pipeline/nlp-search-pipeline\"\n",
    "\n",
    "payload = {\n",
    "  \"description\": \"Post processor for hybrid search\",\n",
    "  \"phase_results_processors\": [\n",
    "    {\n",
    "      \"normalization-processor\": {\n",
    "        \"normalization\": {\n",
    "          \"technique\": \"min_max\"\n",
    "        },\n",
    "        \"combination\": {\n",
    "          \"technique\": \"arithmetic_mean\",\n",
    "          \"parameters\": {\n",
    "            \"weights\": [\n",
    "              0.3,\n",
    "              0.7\n",
    "            ]\n",
    "          }\n",
    "        }\n",
    "      }\n",
    "    }\n",
    "  ]\n",
    "}\n",
    "\n",
    "\n",
    "response = requests.request(\"PUT\", url, headers=headers, data=json.dumps(payload))\n",
    "mr.JSON(response.json(), level=4)"
   ]
  },
  {
   "cell_type": "markdown",
   "id": "d5cf9469-e933-468b-b7d7-1f83fa344ef9",
   "metadata": {},
   "source": [
    "## Search the index using just Neural search\n",
    "Notice that our query *Hi world* which has nothing to do with either toner cartidges or paper returns matches?  Yeah, that's where the kNN algorithm falls down..  "
   ]
  },
  {
   "cell_type": "code",
   "execution_count": 23,
   "id": "e690f31e-334a-4bc8-9306-90f91290dbff",
   "metadata": {},
   "outputs": [
    {
     "data": {
      "text/html": [
       "<style>.renderjson a              { text-decoration: none; }\n",
       ".renderjson .disclosure    { color: grey; font-size: 125%; }\n",
       ".renderjson .syntax        { color: grey; }\n",
       ".renderjson .string        { color: #fe46a5; }\n",
       ".renderjson .number        { color: #0f9b8e; }\n",
       ".renderjson .boolean       { color: black; }\n",
       ".renderjson .key           { color: #2684ff; }\n",
       ".renderjson .keyword       { color: gray; }\n",
       ".renderjson .object.syntax { color: gray; }\n",
       ".renderjson .array.syntax  { color: gray; }</style><div id=\"73546bee-87ff-468a-8ce8-b4f8a3ad6bf0\"></div>"
      ],
      "text/plain": [
       "<IPython.core.display.HTML object>"
      ]
     },
     "metadata": {},
     "output_type": "display_data"
    },
    {
     "data": {
      "text/html": [
       "<script>var renderjson=function(){var t=function(){for(var t=[];arguments.length;)t.push(n(s(Array.prototype.shift.call(arguments)),o(Array.prototype.shift.call(arguments))));return t},n=function(){for(var t=Array.prototype.shift.call(arguments),e=0;e<arguments.length;e++)arguments[e].constructor==Array?n.apply(this,[t].concat(arguments[e])):t.appendChild(arguments[e]);return t},e=function(t,n){return t.insertBefore(n,t.firstChild),t},r=function(t,n){var e=n||Object.keys(t);for(var r in e)if(Object.hasOwnProperty.call(t,e[r]))return!1;return!0},o=function(t){return document.createTextNode(t)},s=function(t){var n=document.createElement(\"span\");return t&&(n.className=t),n},l=function(t,n,e){var r=document.createElement(\"a\");return n&&(r.className=n),r.appendChild(o(t)),r.href=\"#\",r.onclick=function(t){return e(),t&&t.stopPropagation(),!1},r};function a(i,c,u,p,y){var _=u?\"\":c,f=function(r,a,i,c,u){var f,g=s(c),h=function(){f||n(g.parentNode,f=e(u(),l(y.hide,\"disclosure\",(function(){f.style.display=\"none\",g.style.display=\"inline\"})))),f.style.display=\"inline\",g.style.display=\"none\"};n(g,l(y.show,\"disclosure\",h),t(c+\" syntax\",r),l(a,null,h),t(c+\" syntax\",i));var d=n(s(),o(_.slice(0,-1)),g);return p>0&&\"string\"!=c&&h(),d};return null===i?t(null,_,\"keyword\",\"null\"):void 0===i?t(null,_,\"keyword\",\"undefined\"):\"string\"==typeof i&&i.length>y.max_string_length?f('\"',i.substr(0,y.max_string_length)+\" ...\",'\"',\"string\",(function(){return n(s(\"string\"),t(null,_,\"string\",JSON.stringify(i)))})):\"object\"!=typeof i||[Number,String,Boolean,Date].indexOf(i.constructor)>=0?t(null,_,typeof i,JSON.stringify(i)):i.constructor==Array?0==i.length?t(null,_,\"array syntax\",\"[]\"):f(\"[\",y.collapse_msg(i.length),\"]\",\"array\",(function(){for(var e=n(s(\"array\"),t(\"array syntax\",\"[\",null,\"\\n\")),r=0;r<i.length;r++)n(e,a(y.replacer.call(i,r,i[r]),c+\"    \",!1,p-1,y),r!=i.length-1?t(\"syntax\",\",\"):[],o(\"\\n\"));return n(e,t(null,c,\"array syntax\",\"]\")),e})):r(i,y.property_list)?t(null,_,\"object syntax\",\"{}\"):f(\"{\",y.collapse_msg(Object.keys(i).length),\"}\",\"object\",(function(){var e=n(s(\"object\"),t(\"object syntax\",\"{\",null,\"\\n\"));for(var r in i)var l=r;var u=y.property_list||Object.keys(i);for(var _ in y.sort_objects&&(u=u.sort()),u){(r=u[_])in i&&n(e,t(null,c+\"    \",\"key\",'\"'+r+'\"',\"object syntax\",\": \"),a(y.replacer.call(i,r,i[r]),c+\"    \",!0,p-1,y),r!=l?t(\"syntax\",\",\"):[],o(\"\\n\"))}return n(e,t(null,c,\"object syntax\",\"}\")),e}))}var i=function t(e){var r=new Object(t.options);r.replacer=\"function\"==typeof r.replacer?r.replacer:function(t,n){return n};var o=n(document.createElement(\"pre\"),a(e,\"\",!1,r.show_to_level,r));return o.className=\"renderjson\",o};return i.set_icons=function(t,n){return i.options.show=t,i.options.hide=n,i},i.set_show_to_level=function(t){return i.options.show_to_level=\"string\"==typeof t&&\"all\"===t.toLowerCase()?Number.MAX_VALUE:t,i},i.set_max_string_length=function(t){return i.options.max_string_length=\"string\"==typeof t&&\"none\"===t.toLowerCase()?Number.MAX_VALUE:t,i},i.set_sort_objects=function(t){return i.options.sort_objects=t,i},i.set_replacer=function(t){return i.options.replacer=t,i},i.set_collapse_msg=function(t){return i.options.collapse_msg=t,i},i.set_property_list=function(t){return i.options.property_list=t,i},i.set_show_by_default=function(t){return i.options.show_to_level=t?Number.MAX_VALUE:0,i},i.options={},i.set_icons(\"⊕\",\"⊖\"),i.set_show_by_default(!1),i.set_sort_objects(!1),i.set_max_string_length(\"none\"),i.set_replacer(void 0),i.set_property_list(void 0),i.set_collapse_msg((function(t){return t+\" item\"+(1==t?\"\":\"s\")})),i}(); renderjson.set_show_to_level(5); document.getElementById(\"73546bee-87ff-468a-8ce8-b4f8a3ad6bf0\").appendChild(renderjson({\"took\": 61, \"timed_out\": false, \"_shards\": {\"total\": 1, \"successful\": 1, \"skipped\": 0, \"failed\": 0}, \"hits\": {\"total\": {\"value\": 2, \"relation\": \"eq\"}, \"max_score\": 0.35719672, \"hits\": [{\"_index\": \"my-nlp-index\", \"_id\": \"2\", \"_score\": -9549512000.0, \"_source\": {\"id\": \"s2\", \"title\": \"Labels Premium A4 64.6x33.8 mm white paper matt 2400 pcs.\"}}, {\"_index\": \"my-nlp-index\", \"_id\": \"2\", \"_score\": -4422440400.0, \"_source\": {\"id\": \"s2\", \"title\": \"Labels Premium A4 64.6x33.8 mm white paper matt 2400 pcs.\"}}, {\"_index\": \"my-nlp-index\", \"_id\": \"2\", \"_score\": 0.35719672, \"_source\": {\"id\": \"s2\", \"title\": \"Labels Premium A4 64.6x33.8 mm white paper matt 2400 pcs.\"}}, {\"_index\": \"my-nlp-index\", \"_id\": \"1\", \"_score\": 0.33348653, \"_source\": {\"id\": \"s1\", \"title\": \"Xerox 006R90321 toner cartridge Original Black 6 pc(s)\"}}, {\"_index\": \"my-nlp-index\", \"_id\": \"2\", \"_score\": -9549512000.0, \"_source\": {\"id\": \"s2\", \"title\": \"Labels Premium A4 64.6x33.8 mm white paper matt 2400 pcs.\"}}]}}))</script>"
      ],
      "text/plain": [
       "<IPython.core.display.HTML object>"
      ]
     },
     "metadata": {},
     "output_type": "display_data"
    }
   ],
   "source": [
    "url = \"http://localhost:9200/my-nlp-index/_search\"\n",
    "\n",
    "payload = {\n",
    "  \"_source\": {\n",
    "    \"exclude\": [\n",
    "      \"title_embedding\"\n",
    "    ]\n",
    "  },\n",
    "  \"query\": {\n",
    "    \"hybrid\": {\n",
    "      \"queries\": [\n",
    "        {\n",
    "          \"neural\": {\n",
    "            \"title_embedding\": {\n",
    "              \"query_text\": \"Hi world\",\n",
    "              \"model_id\": model_id,\n",
    "              \"k\": 5\n",
    "            }\n",
    "          }\n",
    "        }\n",
    "      ]\n",
    "    }\n",
    "  }\n",
    "}\n",
    "\n",
    "\n",
    "response = requests.request(\"GET\", url, headers=headers, data=json.dumps(payload))\n",
    "mr.JSON(response.json(), level=5)"
   ]
  },
  {
   "cell_type": "markdown",
   "id": "fc254016-6778-4086-976e-af020f76b18c",
   "metadata": {},
   "source": [
    "## Combining neural and lexical match query\n",
    "\n",
    "Notice that we add to the mix both a lexical (_match_) and a neural query.  They are blended by the `nlp-search-pipeline` that we reference."
   ]
  },
  {
   "cell_type": "code",
   "execution_count": 24,
   "id": "50bcf92b-ddf1-4d8e-ae3a-30a4acb292f3",
   "metadata": {},
   "outputs": [
    {
     "data": {
      "text/html": [
       "<style>.renderjson a              { text-decoration: none; }\n",
       ".renderjson .disclosure    { color: grey; font-size: 125%; }\n",
       ".renderjson .syntax        { color: grey; }\n",
       ".renderjson .string        { color: #fe46a5; }\n",
       ".renderjson .number        { color: #0f9b8e; }\n",
       ".renderjson .boolean       { color: black; }\n",
       ".renderjson .key           { color: #2684ff; }\n",
       ".renderjson .keyword       { color: gray; }\n",
       ".renderjson .object.syntax { color: gray; }\n",
       ".renderjson .array.syntax  { color: gray; }</style><div id=\"cf2ff1aa-a8f5-4359-a33b-3b144b273df1\"></div>"
      ],
      "text/plain": [
       "<IPython.core.display.HTML object>"
      ]
     },
     "metadata": {},
     "output_type": "display_data"
    },
    {
     "data": {
      "text/html": [
       "<script>var renderjson=function(){var t=function(){for(var t=[];arguments.length;)t.push(n(s(Array.prototype.shift.call(arguments)),o(Array.prototype.shift.call(arguments))));return t},n=function(){for(var t=Array.prototype.shift.call(arguments),e=0;e<arguments.length;e++)arguments[e].constructor==Array?n.apply(this,[t].concat(arguments[e])):t.appendChild(arguments[e]);return t},e=function(t,n){return t.insertBefore(n,t.firstChild),t},r=function(t,n){var e=n||Object.keys(t);for(var r in e)if(Object.hasOwnProperty.call(t,e[r]))return!1;return!0},o=function(t){return document.createTextNode(t)},s=function(t){var n=document.createElement(\"span\");return t&&(n.className=t),n},l=function(t,n,e){var r=document.createElement(\"a\");return n&&(r.className=n),r.appendChild(o(t)),r.href=\"#\",r.onclick=function(t){return e(),t&&t.stopPropagation(),!1},r};function a(i,c,u,p,y){var _=u?\"\":c,f=function(r,a,i,c,u){var f,g=s(c),h=function(){f||n(g.parentNode,f=e(u(),l(y.hide,\"disclosure\",(function(){f.style.display=\"none\",g.style.display=\"inline\"})))),f.style.display=\"inline\",g.style.display=\"none\"};n(g,l(y.show,\"disclosure\",h),t(c+\" syntax\",r),l(a,null,h),t(c+\" syntax\",i));var d=n(s(),o(_.slice(0,-1)),g);return p>0&&\"string\"!=c&&h(),d};return null===i?t(null,_,\"keyword\",\"null\"):void 0===i?t(null,_,\"keyword\",\"undefined\"):\"string\"==typeof i&&i.length>y.max_string_length?f('\"',i.substr(0,y.max_string_length)+\" ...\",'\"',\"string\",(function(){return n(s(\"string\"),t(null,_,\"string\",JSON.stringify(i)))})):\"object\"!=typeof i||[Number,String,Boolean,Date].indexOf(i.constructor)>=0?t(null,_,typeof i,JSON.stringify(i)):i.constructor==Array?0==i.length?t(null,_,\"array syntax\",\"[]\"):f(\"[\",y.collapse_msg(i.length),\"]\",\"array\",(function(){for(var e=n(s(\"array\"),t(\"array syntax\",\"[\",null,\"\\n\")),r=0;r<i.length;r++)n(e,a(y.replacer.call(i,r,i[r]),c+\"    \",!1,p-1,y),r!=i.length-1?t(\"syntax\",\",\"):[],o(\"\\n\"));return n(e,t(null,c,\"array syntax\",\"]\")),e})):r(i,y.property_list)?t(null,_,\"object syntax\",\"{}\"):f(\"{\",y.collapse_msg(Object.keys(i).length),\"}\",\"object\",(function(){var e=n(s(\"object\"),t(\"object syntax\",\"{\",null,\"\\n\"));for(var r in i)var l=r;var u=y.property_list||Object.keys(i);for(var _ in y.sort_objects&&(u=u.sort()),u){(r=u[_])in i&&n(e,t(null,c+\"    \",\"key\",'\"'+r+'\"',\"object syntax\",\": \"),a(y.replacer.call(i,r,i[r]),c+\"    \",!0,p-1,y),r!=l?t(\"syntax\",\",\"):[],o(\"\\n\"))}return n(e,t(null,c,\"object syntax\",\"}\")),e}))}var i=function t(e){var r=new Object(t.options);r.replacer=\"function\"==typeof r.replacer?r.replacer:function(t,n){return n};var o=n(document.createElement(\"pre\"),a(e,\"\",!1,r.show_to_level,r));return o.className=\"renderjson\",o};return i.set_icons=function(t,n){return i.options.show=t,i.options.hide=n,i},i.set_show_to_level=function(t){return i.options.show_to_level=\"string\"==typeof t&&\"all\"===t.toLowerCase()?Number.MAX_VALUE:t,i},i.set_max_string_length=function(t){return i.options.max_string_length=\"string\"==typeof t&&\"none\"===t.toLowerCase()?Number.MAX_VALUE:t,i},i.set_sort_objects=function(t){return i.options.sort_objects=t,i},i.set_replacer=function(t){return i.options.replacer=t,i},i.set_collapse_msg=function(t){return i.options.collapse_msg=t,i},i.set_property_list=function(t){return i.options.property_list=t,i},i.set_show_by_default=function(t){return i.options.show_to_level=t?Number.MAX_VALUE:0,i},i.options={},i.set_icons(\"⊕\",\"⊖\"),i.set_show_by_default(!1),i.set_sort_objects(!1),i.set_max_string_length(\"none\"),i.set_replacer(void 0),i.set_property_list(void 0),i.set_collapse_msg((function(t){return t+\" item\"+(1==t?\"\":\"s\")})),i}(); renderjson.set_show_to_level(5); document.getElementById(\"cf2ff1aa-a8f5-4359-a33b-3b144b273df1\").appendChild(renderjson({\"took\": 34, \"timed_out\": false, \"_shards\": {\"total\": 1, \"successful\": 1, \"skipped\": 0, \"failed\": 0}, \"hits\": {\"total\": {\"value\": 2, \"relation\": \"eq\"}, \"max_score\": 0.7, \"hits\": [{\"_index\": \"my-nlp-index\", \"_id\": \"1\", \"_score\": 0.7, \"_source\": {\"id\": \"s1\", \"title\": \"Xerox 006R90321 toner cartridge Original Black 6 pc(s)\"}}, {\"_index\": \"my-nlp-index\", \"_id\": \"2\", \"_score\": 0.00070000003, \"_source\": {\"id\": \"s2\", \"title\": \"Labels Premium A4 64.6x33.8 mm white paper matt 2400 pcs.\"}}]}}))</script>"
      ],
      "text/plain": [
       "<IPython.core.display.HTML object>"
      ]
     },
     "metadata": {},
     "output_type": "display_data"
    }
   ],
   "source": [
    "url = \"http://localhost:9200/my-nlp-index/_search?search_pipeline=nlp-search-pipeline\"\n",
    "\n",
    "payload = {\n",
    "  \"_source\": {\n",
    "    \"excludes\": [\n",
    "      \"title_embedding\"\n",
    "    ]\n",
    "  },\n",
    "  \"query\": {\n",
    "    \"hybrid\": {\n",
    "      \"queries\": [\n",
    "        {\n",
    "          \"match\": {\n",
    "            \"title_text\": {\n",
    "              \"query\": \"printer toner\"\n",
    "            }\n",
    "          }\n",
    "        },\n",
    "        {\n",
    "          \"neural\": {\n",
    "            \"title_embedding\": {\n",
    "              \"query_text\": \"printer toner\",\n",
    "              \"model_id\": model_id,\n",
    "              \"k\": 5\n",
    "            }\n",
    "          }\n",
    "        }\n",
    "      ]\n",
    "    }\n",
    "  }\n",
    "}\n",
    "\n",
    "\n",
    "response = requests.request(\"GET\", url, headers=headers, data=json.dumps(payload))\n",
    "mr.JSON(response.json(), level=5)"
   ]
  },
  {
   "cell_type": "code",
   "execution_count": null,
   "id": "197828ae-73f3-4831-b20c-bace858bc12b",
   "metadata": {},
   "outputs": [],
   "source": []
  }
 ],
 "metadata": {
  "kernelspec": {
   "display_name": "Python 3 (ipykernel)",
   "language": "python",
   "name": "python3"
  },
  "language_info": {
   "codemirror_mode": {
    "name": "ipython",
    "version": 3
   },
   "file_extension": ".py",
   "mimetype": "text/x-python",
   "name": "python",
   "nbconvert_exporter": "python",
   "pygments_lexer": "ipython3",
   "version": "3.9.17"
  }
 },
 "nbformat": 4,
 "nbformat_minor": 5
}
